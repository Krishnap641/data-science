{
  "nbformat": 4,
  "nbformat_minor": 0,
  "metadata": {
    "colab": {
      "name": "escorts_ensemble_models.ipynb",
      "provenance": [],
      "collapsed_sections": []
    },
    "kernelspec": {
      "display_name": "Python 3",
      "language": "python",
      "name": "python3"
    },
    "language_info": {
      "codemirror_mode": {
        "name": "ipython",
        "version": 3
      },
      "file_extension": ".py",
      "mimetype": "text/x-python",
      "name": "python",
      "nbconvert_exporter": "python",
      "pygments_lexer": "ipython3",
      "version": "3.7.6"
    }
  },
  "cells": [
    {
      "cell_type": "markdown",
      "metadata": {
        "colab_type": "text",
        "id": "duyGGJ13DS0w"
      },
      "source": [
        "# STOCK TRADING DAYS OPEN PRICE\n",
        "### AUTHOR : XXX\n",
        "### DATE WRITTEN: dd-mm-yyyy\n",
        "### "
      ]
    },
    {
      "cell_type": "code",
      "metadata": {
        "id": "b-p3AHZuTw55",
        "colab_type": "code",
        "colab": {}
      },
      "source": [
        "# This model uses Ranbdom forest esembles to select the features\n",
        "# and uses Adaboost to buid a ML model"
      ],
      "execution_count": 0,
      "outputs": []
    },
    {
      "cell_type": "code",
      "metadata": {
        "colab_type": "code",
        "id": "nvnVgQulDS0y",
        "colab": {}
      },
      "source": [
        "import pandas as pd\n",
        "import numpy as np"
      ],
      "execution_count": 0,
      "outputs": []
    },
    {
      "cell_type": "code",
      "metadata": {
        "colab_type": "code",
        "id": "6191fZCMHv-X",
        "colab": {}
      },
      "source": [
        "from sklearn.ensemble import RandomForestClassifier, RandomForestRegressor\n",
        "from sklearn.feature_selection import SelectFromModel"
      ],
      "execution_count": 0,
      "outputs": []
    },
    {
      "cell_type": "code",
      "metadata": {
        "colab_type": "code",
        "id": "-g-Rqc51DS08",
        "colab": {}
      },
      "source": [
        "import warnings\n",
        "warnings.filterwarnings(\"ignore\")"
      ],
      "execution_count": 0,
      "outputs": []
    },
    {
      "cell_type": "code",
      "metadata": {
        "id": "pyOBmSNoULEi",
        "colab_type": "code",
        "outputId": "0dad646f-b3da-424a-da76-458a5e0793ed",
        "colab": {
          "base_uri": "https://localhost:8080/",
          "height": 128
        }
      },
      "source": [
        "from google.colab import drive\n",
        "drive.mount('/content/drive')"
      ],
      "execution_count": 0,
      "outputs": [
        {
          "output_type": "stream",
          "text": [
            "Go to this URL in a browser: https://accounts.google.com/o/oauth2/auth?client_id=947318989803-6bn6qk8qdgf4n4g3pfee6491hc0brc4i.apps.googleusercontent.com&redirect_uri=urn%3aietf%3awg%3aoauth%3a2.0%3aoob&response_type=code&scope=email%20https%3a%2f%2fwww.googleapis.com%2fauth%2fdocs.test%20https%3a%2f%2fwww.googleapis.com%2fauth%2fdrive%20https%3a%2f%2fwww.googleapis.com%2fauth%2fdrive.photos.readonly%20https%3a%2f%2fwww.googleapis.com%2fauth%2fpeopleapi.readonly\n",
            "\n",
            "Enter your authorization code:\n",
            "··········\n",
            "Mounted at /content/drive\n"
          ],
          "name": "stdout"
        }
      ]
    },
    {
      "cell_type": "code",
      "metadata": {
        "colab_type": "code",
        "id": "__HdwC_IDS1C",
        "colab": {}
      },
      "source": [
        "es_train = pd.read_csv('/content/drive/My Drive/Data Science Classroom/dataset/ESCORTS_TRAIN.csv')\n",
        "es_test = pd.read_csv('/content/drive/My Drive/Data Science Classroom/dataset/ESCORTS_TEST.csv')"
      ],
      "execution_count": 0,
      "outputs": []
    },
    {
      "cell_type": "code",
      "metadata": {
        "colab_type": "code",
        "id": "WsB0IsoGDS1I",
        "outputId": "1654dbeb-d780-4bbf-f2b3-ef96dc372b9a",
        "colab": {
          "base_uri": "https://localhost:8080/",
          "height": 198
        }
      },
      "source": [
        "es_train.head()"
      ],
      "execution_count": 0,
      "outputs": [
        {
          "output_type": "execute_result",
          "data": {
            "text/html": [
              "<div>\n",
              "<style scoped>\n",
              "    .dataframe tbody tr th:only-of-type {\n",
              "        vertical-align: middle;\n",
              "    }\n",
              "\n",
              "    .dataframe tbody tr th {\n",
              "        vertical-align: top;\n",
              "    }\n",
              "\n",
              "    .dataframe thead th {\n",
              "        text-align: right;\n",
              "    }\n",
              "</style>\n",
              "<table border=\"1\" class=\"dataframe\">\n",
              "  <thead>\n",
              "    <tr style=\"text-align: right;\">\n",
              "      <th></th>\n",
              "      <th>Date</th>\n",
              "      <th>Adj Close</th>\n",
              "      <th>Volume</th>\n",
              "      <th>NIFTY Open</th>\n",
              "      <th>Stock Open price</th>\n",
              "    </tr>\n",
              "  </thead>\n",
              "  <tbody>\n",
              "    <tr>\n",
              "      <th>0</th>\n",
              "      <td>4/1/2015</td>\n",
              "      <td>124.459732</td>\n",
              "      <td>650074.0</td>\n",
              "      <td>8483.700195</td>\n",
              "      <td>127.199997</td>\n",
              "    </tr>\n",
              "    <tr>\n",
              "      <th>1</th>\n",
              "      <td>4/6/2015</td>\n",
              "      <td>123.332298</td>\n",
              "      <td>352110.0</td>\n",
              "      <td>8615.799805</td>\n",
              "      <td>126.800003</td>\n",
              "    </tr>\n",
              "    <tr>\n",
              "      <th>2</th>\n",
              "      <td>4/7/2015</td>\n",
              "      <td>132.891037</td>\n",
              "      <td>2074275.0</td>\n",
              "      <td>8684.450195</td>\n",
              "      <td>136.800003</td>\n",
              "    </tr>\n",
              "    <tr>\n",
              "      <th>3</th>\n",
              "      <td>4/8/2015</td>\n",
              "      <td>136.224350</td>\n",
              "      <td>1811574.0</td>\n",
              "      <td>8698.950195</td>\n",
              "      <td>139.600006</td>\n",
              "    </tr>\n",
              "    <tr>\n",
              "      <th>4</th>\n",
              "      <td>4/9/2015</td>\n",
              "      <td>133.136139</td>\n",
              "      <td>596295.0</td>\n",
              "      <td>8756.200195</td>\n",
              "      <td>136.350006</td>\n",
              "    </tr>\n",
              "  </tbody>\n",
              "</table>\n",
              "</div>"
            ],
            "text/plain": [
              "       Date   Adj Close     Volume   NIFTY Open  Stock Open price\n",
              "0  4/1/2015  124.459732   650074.0  8483.700195        127.199997\n",
              "1  4/6/2015  123.332298   352110.0  8615.799805        126.800003\n",
              "2  4/7/2015  132.891037  2074275.0  8684.450195        136.800003\n",
              "3  4/8/2015  136.224350  1811574.0  8698.950195        139.600006\n",
              "4  4/9/2015  133.136139   596295.0  8756.200195        136.350006"
            ]
          },
          "metadata": {
            "tags": []
          },
          "execution_count": 10
        }
      ]
    },
    {
      "cell_type": "code",
      "metadata": {
        "colab_type": "code",
        "id": "KZ8plMrxDS1Q",
        "outputId": "6023c870-a25a-4e47-8f10-4e8a27c33d82",
        "colab": {
          "base_uri": "https://localhost:8080/",
          "height": 126
        }
      },
      "source": [
        "es_train.isnull().sum()"
      ],
      "execution_count": 0,
      "outputs": [
        {
          "output_type": "execute_result",
          "data": {
            "text/plain": [
              "Date                0\n",
              "Adj Close           1\n",
              "Volume              1\n",
              "NIFTY Open          6\n",
              "Stock Open price    2\n",
              "dtype: int64"
            ]
          },
          "metadata": {
            "tags": []
          },
          "execution_count": 11
        }
      ]
    },
    {
      "cell_type": "code",
      "metadata": {
        "colab_type": "code",
        "id": "8AZmA8OfDS1X",
        "outputId": "88c453af-903b-4720-ffae-2c5f65419693",
        "colab": {
          "base_uri": "https://localhost:8080/",
          "height": 78
        }
      },
      "source": [
        "# display the record\n",
        "es_train[es_train['Adj Close'].isnull()]"
      ],
      "execution_count": 0,
      "outputs": [
        {
          "output_type": "execute_result",
          "data": {
            "text/html": [
              "<div>\n",
              "<style scoped>\n",
              "    .dataframe tbody tr th:only-of-type {\n",
              "        vertical-align: middle;\n",
              "    }\n",
              "\n",
              "    .dataframe tbody tr th {\n",
              "        vertical-align: top;\n",
              "    }\n",
              "\n",
              "    .dataframe thead th {\n",
              "        text-align: right;\n",
              "    }\n",
              "</style>\n",
              "<table border=\"1\" class=\"dataframe\">\n",
              "  <thead>\n",
              "    <tr style=\"text-align: right;\">\n",
              "      <th></th>\n",
              "      <th>Date</th>\n",
              "      <th>Adj Close</th>\n",
              "      <th>Volume</th>\n",
              "      <th>NIFTY Open</th>\n",
              "      <th>Stock Open price</th>\n",
              "    </tr>\n",
              "  </thead>\n",
              "  <tbody>\n",
              "    <tr>\n",
              "      <th>1123</th>\n",
              "      <td>10/27/2019</td>\n",
              "      <td>NaN</td>\n",
              "      <td>NaN</td>\n",
              "      <td>NaN</td>\n",
              "      <td>644.0</td>\n",
              "    </tr>\n",
              "  </tbody>\n",
              "</table>\n",
              "</div>"
            ],
            "text/plain": [
              "            Date  Adj Close  Volume  NIFTY Open  Stock Open price\n",
              "1123  10/27/2019        NaN     NaN         NaN             644.0"
            ]
          },
          "metadata": {
            "tags": []
          },
          "execution_count": 12
        }
      ]
    },
    {
      "cell_type": "code",
      "metadata": {
        "colab_type": "code",
        "id": "OYiQeITzDS1d",
        "outputId": "18d55e25-2571-4a9e-de42-db38c4b70429",
        "colab": {
          "base_uri": "https://localhost:8080/",
          "height": 78
        }
      },
      "source": [
        "es_train[es_train['Volume'].isnull()]"
      ],
      "execution_count": 0,
      "outputs": [
        {
          "output_type": "execute_result",
          "data": {
            "text/html": [
              "<div>\n",
              "<style scoped>\n",
              "    .dataframe tbody tr th:only-of-type {\n",
              "        vertical-align: middle;\n",
              "    }\n",
              "\n",
              "    .dataframe tbody tr th {\n",
              "        vertical-align: top;\n",
              "    }\n",
              "\n",
              "    .dataframe thead th {\n",
              "        text-align: right;\n",
              "    }\n",
              "</style>\n",
              "<table border=\"1\" class=\"dataframe\">\n",
              "  <thead>\n",
              "    <tr style=\"text-align: right;\">\n",
              "      <th></th>\n",
              "      <th>Date</th>\n",
              "      <th>Adj Close</th>\n",
              "      <th>Volume</th>\n",
              "      <th>NIFTY Open</th>\n",
              "      <th>Stock Open price</th>\n",
              "    </tr>\n",
              "  </thead>\n",
              "  <tbody>\n",
              "    <tr>\n",
              "      <th>1123</th>\n",
              "      <td>10/27/2019</td>\n",
              "      <td>NaN</td>\n",
              "      <td>NaN</td>\n",
              "      <td>NaN</td>\n",
              "      <td>644.0</td>\n",
              "    </tr>\n",
              "  </tbody>\n",
              "</table>\n",
              "</div>"
            ],
            "text/plain": [
              "            Date  Adj Close  Volume  NIFTY Open  Stock Open price\n",
              "1123  10/27/2019        NaN     NaN         NaN             644.0"
            ]
          },
          "metadata": {
            "tags": []
          },
          "execution_count": 13
        }
      ]
    },
    {
      "cell_type": "code",
      "metadata": {
        "colab_type": "code",
        "id": "9mQ9eIamDS1k",
        "outputId": "e58830e6-5237-4012-bf05-68e7cde0a06a",
        "colab": {
          "base_uri": "https://localhost:8080/",
          "height": 228
        }
      },
      "source": [
        "es_train[es_train['NIFTY Open'].isnull()]"
      ],
      "execution_count": 0,
      "outputs": [
        {
          "output_type": "execute_result",
          "data": {
            "text/html": [
              "<div>\n",
              "<style scoped>\n",
              "    .dataframe tbody tr th:only-of-type {\n",
              "        vertical-align: middle;\n",
              "    }\n",
              "\n",
              "    .dataframe tbody tr th {\n",
              "        vertical-align: top;\n",
              "    }\n",
              "\n",
              "    .dataframe thead th {\n",
              "        text-align: right;\n",
              "    }\n",
              "</style>\n",
              "<table border=\"1\" class=\"dataframe\">\n",
              "  <thead>\n",
              "    <tr style=\"text-align: right;\">\n",
              "      <th></th>\n",
              "      <th>Date</th>\n",
              "      <th>Adj Close</th>\n",
              "      <th>Volume</th>\n",
              "      <th>NIFTY Open</th>\n",
              "      <th>Stock Open price</th>\n",
              "    </tr>\n",
              "  </thead>\n",
              "  <tbody>\n",
              "    <tr>\n",
              "      <th>7</th>\n",
              "      <td>4/15/2015</td>\n",
              "      <td>132.449860</td>\n",
              "      <td>525209.0</td>\n",
              "      <td>NaN</td>\n",
              "      <td>135.449997</td>\n",
              "    </tr>\n",
              "    <tr>\n",
              "      <th>185</th>\n",
              "      <td>1/1/2016</td>\n",
              "      <td>168.042999</td>\n",
              "      <td>335512.0</td>\n",
              "      <td>NaN</td>\n",
              "      <td>168.000000</td>\n",
              "    </tr>\n",
              "    <tr>\n",
              "      <th>337</th>\n",
              "      <td>8/12/2016</td>\n",
              "      <td>295.803101</td>\n",
              "      <td>6365901.0</td>\n",
              "      <td>NaN</td>\n",
              "      <td>300.799988</td>\n",
              "    </tr>\n",
              "    <tr>\n",
              "      <th>679</th>\n",
              "      <td>1/1/2018</td>\n",
              "      <td>769.035706</td>\n",
              "      <td>1246643.0</td>\n",
              "      <td>NaN</td>\n",
              "      <td>780.150024</td>\n",
              "    </tr>\n",
              "    <tr>\n",
              "      <th>925</th>\n",
              "      <td>1/1/2019</td>\n",
              "      <td>716.453003</td>\n",
              "      <td>3301665.0</td>\n",
              "      <td>NaN</td>\n",
              "      <td>721.500000</td>\n",
              "    </tr>\n",
              "    <tr>\n",
              "      <th>1123</th>\n",
              "      <td>10/27/2019</td>\n",
              "      <td>NaN</td>\n",
              "      <td>NaN</td>\n",
              "      <td>NaN</td>\n",
              "      <td>644.000000</td>\n",
              "    </tr>\n",
              "  </tbody>\n",
              "</table>\n",
              "</div>"
            ],
            "text/plain": [
              "            Date   Adj Close     Volume  NIFTY Open  Stock Open price\n",
              "7      4/15/2015  132.449860   525209.0         NaN        135.449997\n",
              "185     1/1/2016  168.042999   335512.0         NaN        168.000000\n",
              "337    8/12/2016  295.803101  6365901.0         NaN        300.799988\n",
              "679     1/1/2018  769.035706  1246643.0         NaN        780.150024\n",
              "925     1/1/2019  716.453003  3301665.0         NaN        721.500000\n",
              "1123  10/27/2019         NaN        NaN         NaN        644.000000"
            ]
          },
          "metadata": {
            "tags": []
          },
          "execution_count": 14
        }
      ]
    },
    {
      "cell_type": "code",
      "metadata": {
        "colab_type": "code",
        "id": "ckzbbimyDS1q",
        "outputId": "81120f04-286b-48f9-b7b6-5977fca407fb",
        "colab": {
          "base_uri": "https://localhost:8080/",
          "height": 108
        }
      },
      "source": [
        "es_train[es_train['Stock Open price'].isnull()]"
      ],
      "execution_count": 0,
      "outputs": [
        {
          "output_type": "execute_result",
          "data": {
            "text/html": [
              "<div>\n",
              "<style scoped>\n",
              "    .dataframe tbody tr th:only-of-type {\n",
              "        vertical-align: middle;\n",
              "    }\n",
              "\n",
              "    .dataframe tbody tr th {\n",
              "        vertical-align: top;\n",
              "    }\n",
              "\n",
              "    .dataframe thead th {\n",
              "        text-align: right;\n",
              "    }\n",
              "</style>\n",
              "<table border=\"1\" class=\"dataframe\">\n",
              "  <thead>\n",
              "    <tr style=\"text-align: right;\">\n",
              "      <th></th>\n",
              "      <th>Date</th>\n",
              "      <th>Adj Close</th>\n",
              "      <th>Volume</th>\n",
              "      <th>NIFTY Open</th>\n",
              "      <th>Stock Open price</th>\n",
              "    </tr>\n",
              "  </thead>\n",
              "  <tbody>\n",
              "    <tr>\n",
              "      <th>1122</th>\n",
              "      <td>10/25/2019</td>\n",
              "      <td>640.000000</td>\n",
              "      <td>1995407.0</td>\n",
              "      <td>11646.150390</td>\n",
              "      <td>NaN</td>\n",
              "    </tr>\n",
              "    <tr>\n",
              "      <th>1229</th>\n",
              "      <td>3/30/2020</td>\n",
              "      <td>601.599976</td>\n",
              "      <td>2084182.0</td>\n",
              "      <td>8385.950195</td>\n",
              "      <td>NaN</td>\n",
              "    </tr>\n",
              "  </tbody>\n",
              "</table>\n",
              "</div>"
            ],
            "text/plain": [
              "            Date   Adj Close     Volume    NIFTY Open  Stock Open price\n",
              "1122  10/25/2019  640.000000  1995407.0  11646.150390               NaN\n",
              "1229   3/30/2020  601.599976  2084182.0   8385.950195               NaN"
            ]
          },
          "metadata": {
            "tags": []
          },
          "execution_count": 15
        }
      ]
    },
    {
      "cell_type": "code",
      "metadata": {
        "colab_type": "code",
        "id": "GjJfhdvlDS1v",
        "colab": {}
      },
      "source": [
        "# stratagies to fill null values\n",
        "es_train['Stock Open price'][es_train['Date'] == '10/25/2019'] = es_train['Stock Open price'][es_train['Date'] == '10/27/2019']\n",
        "es_train['NIFTY Open'].fillna(es_train['NIFTY Open'].mean(),inplace=True)\n",
        "es_train.dropna(axis=0,inplace=True)"
      ],
      "execution_count": 0,
      "outputs": []
    },
    {
      "cell_type": "code",
      "metadata": {
        "colab_type": "code",
        "id": "H-mpoE2dDS11",
        "outputId": "21e04744-6276-4778-9739-faf3aa2cbdc5",
        "colab": {
          "base_uri": "https://localhost:8080/",
          "height": 126
        }
      },
      "source": [
        "es_train.isnull().sum()"
      ],
      "execution_count": 0,
      "outputs": [
        {
          "output_type": "execute_result",
          "data": {
            "text/plain": [
              "Date                0\n",
              "Adj Close           0\n",
              "Volume              0\n",
              "NIFTY Open          0\n",
              "Stock Open price    0\n",
              "dtype: int64"
            ]
          },
          "metadata": {
            "tags": []
          },
          "execution_count": 17
        }
      ]
    },
    {
      "cell_type": "code",
      "metadata": {
        "colab_type": "code",
        "id": "X9cuaA3gDS2Q",
        "colab": {}
      },
      "source": [
        "X = es_train[es_train.columns[1:-1]]\n",
        "Y = es_train[es_train.columns[-1]]"
      ],
      "execution_count": 0,
      "outputs": []
    },
    {
      "cell_type": "code",
      "metadata": {
        "colab_type": "code",
        "id": "12hQq-w3DS26",
        "colab": {}
      },
      "source": [
        "es_test.dropna(axis=0,inplace=True)"
      ],
      "execution_count": 0,
      "outputs": []
    },
    {
      "cell_type": "code",
      "metadata": {
        "colab_type": "code",
        "id": "qarM2ZMUDS3E",
        "colab": {}
      },
      "source": [
        "X_test = es_test[es_test.columns[1:-1]]"
      ],
      "execution_count": 0,
      "outputs": []
    },
    {
      "cell_type": "code",
      "metadata": {
        "colab_type": "code",
        "id": "xzOGfA8-saMf",
        "colab": {}
      },
      "source": [
        "# Create a list of feature names\n",
        "feat_labels = list(es_train.axes[1])[1:-1]"
      ],
      "execution_count": 0,
      "outputs": []
    },
    {
      "cell_type": "code",
      "metadata": {
        "colab_type": "code",
        "id": "YjnGzA4hDS2W",
        "colab": {}
      },
      "source": [
        "# Create a random forest regressor\n",
        "es_rf = RandomForestRegressor(n_estimators=10000, random_state=40, n_jobs=-1)"
      ],
      "execution_count": 0,
      "outputs": []
    },
    {
      "cell_type": "code",
      "metadata": {
        "colab_type": "code",
        "id": "iUEFdXCqDS2b",
        "outputId": "6c3ff06f-8674-40d5-9a46-48c836cd6604",
        "colab": {
          "base_uri": "https://localhost:8080/",
          "height": 145
        }
      },
      "source": [
        "# Train the classifier\n",
        "es_rf.fit(X, Y)"
      ],
      "execution_count": 0,
      "outputs": [
        {
          "output_type": "execute_result",
          "data": {
            "text/plain": [
              "RandomForestRegressor(bootstrap=True, ccp_alpha=0.0, criterion='mse',\n",
              "                      max_depth=None, max_features='auto', max_leaf_nodes=None,\n",
              "                      max_samples=None, min_impurity_decrease=0.0,\n",
              "                      min_impurity_split=None, min_samples_leaf=1,\n",
              "                      min_samples_split=2, min_weight_fraction_leaf=0.0,\n",
              "                      n_estimators=10000, n_jobs=-1, oob_score=False,\n",
              "                      random_state=40, verbose=0, warm_start=False)"
            ]
          },
          "metadata": {
            "tags": []
          },
          "execution_count": 23
        }
      ]
    },
    {
      "cell_type": "code",
      "metadata": {
        "colab_type": "code",
        "id": "y2cMBBzIDS2h",
        "outputId": "ccf4b341-a751-4301-bf2e-2c8e5ed254ca",
        "colab": {
          "base_uri": "https://localhost:8080/",
          "height": 72
        }
      },
      "source": [
        "# Print the name and gini importance of each feature\n",
        "for feature in zip(feat_labels, es_rf.feature_importances_):\n",
        "    print(feature)"
      ],
      "execution_count": 0,
      "outputs": [
        {
          "output_type": "stream",
          "text": [
            "('Adj Close', 0.9995597488826142)\n",
            "('Volume', 9.615421063026653e-05)\n",
            "('NIFTY Open', 0.00034409690675546586)\n"
          ],
          "name": "stdout"
        }
      ]
    },
    {
      "cell_type": "code",
      "metadata": {
        "colab_type": "code",
        "id": "voYzO2Pkuzt0",
        "outputId": "bbbb6098-8e04-44a4-e12b-735c62e88619",
        "colab": {
          "base_uri": "https://localhost:8080/",
          "height": 308
        }
      },
      "source": [
        "# Create a selector object that will use the random forest classifier to identify\n",
        "# features that have an importance of more than 0.0003\n",
        "sfm = SelectFromModel(es_rf, threshold=0.0003)\n",
        "\n",
        "# Train the selector\n",
        "sfm.fit(X, Y)"
      ],
      "execution_count": 0,
      "outputs": [
        {
          "output_type": "execute_result",
          "data": {
            "text/plain": [
              "SelectFromModel(estimator=RandomForestRegressor(bootstrap=True, ccp_alpha=0.0,\n",
              "                                                criterion='mse', max_depth=None,\n",
              "                                                max_features='auto',\n",
              "                                                max_leaf_nodes=None,\n",
              "                                                max_samples=None,\n",
              "                                                min_impurity_decrease=0.0,\n",
              "                                                min_impurity_split=None,\n",
              "                                                min_samples_leaf=1,\n",
              "                                                min_samples_split=2,\n",
              "                                                min_weight_fraction_leaf=0.0,\n",
              "                                                n_estimators=10000, n_jobs=-1,\n",
              "                                                oob_score=False,\n",
              "                                                random_state=40, verbose=0,\n",
              "                                                warm_start=False),\n",
              "                max_features=None, norm_order=1, prefit=False,\n",
              "                threshold=0.0003)"
            ]
          },
          "metadata": {
            "tags": []
          },
          "execution_count": 25
        }
      ]
    },
    {
      "cell_type": "code",
      "metadata": {
        "colab_type": "code",
        "id": "NcRfP0Nkuz8v",
        "outputId": "18edb2e9-8d92-4546-95f2-e4706d2f930a",
        "colab": {
          "base_uri": "https://localhost:8080/",
          "height": 54
        }
      },
      "source": [
        "# Print the names of the most important features\n",
        "for feature_list_index in sfm.get_support(indices=True):\n",
        "    print(feat_labels[feature_list_index])"
      ],
      "execution_count": 0,
      "outputs": [
        {
          "output_type": "stream",
          "text": [
            "Adj Close\n",
            "NIFTY Open\n"
          ],
          "name": "stdout"
        }
      ]
    },
    {
      "cell_type": "code",
      "metadata": {
        "colab_type": "code",
        "id": "-hObPU1e1Aav",
        "colab": {}
      },
      "source": [
        "# Transform the data to create a new dataset containing only the most important features\n",
        "# Note: We have to apply the transform to both the training X and test X data.\n",
        "X_important_train = sfm.transform(X)\n",
        "X_important_test = sfm.transform(X_test)"
      ],
      "execution_count": 0,
      "outputs": []
    },
    {
      "cell_type": "code",
      "metadata": {
        "colab_type": "code",
        "id": "2An1loV8u0Jx",
        "outputId": "3785a955-5de0-43a6-fab2-f837c5afd6e4",
        "colab": {
          "base_uri": "https://localhost:8080/",
          "height": 145
        }
      },
      "source": [
        "# Create a new random forest classifier for the most important features\n",
        "es_rf_imp = RandomForestRegressor(n_estimators=1000)\n",
        "\n",
        "# Train the new classifier on the new dataset containing the most important features\n",
        "es_rf_imp.fit(X_important_train, Y)"
      ],
      "execution_count": 0,
      "outputs": [
        {
          "output_type": "execute_result",
          "data": {
            "text/plain": [
              "RandomForestRegressor(bootstrap=True, ccp_alpha=0.0, criterion='mse',\n",
              "                      max_depth=None, max_features='auto', max_leaf_nodes=None,\n",
              "                      max_samples=None, min_impurity_decrease=0.0,\n",
              "                      min_impurity_split=None, min_samples_leaf=1,\n",
              "                      min_samples_split=2, min_weight_fraction_leaf=0.0,\n",
              "                      n_estimators=1000, n_jobs=None, oob_score=False,\n",
              "                      random_state=None, verbose=0, warm_start=False)"
            ]
          },
          "metadata": {
            "tags": []
          },
          "execution_count": 28
        }
      ]
    },
    {
      "cell_type": "code",
      "metadata": {
        "colab_type": "code",
        "id": "-e8D8ANQDS2r",
        "colab": {}
      },
      "source": [
        "es_test.rename(columns = {'Stock Open price':'Actual Open'}, inplace=True)"
      ],
      "execution_count": 0,
      "outputs": []
    },
    {
      "cell_type": "code",
      "metadata": {
        "colab_type": "code",
        "id": "RIXlk_MM1_Fg",
        "outputId": "b42010e2-017d-406f-ae2c-64c41390d452",
        "colab": {
          "base_uri": "https://localhost:8080/",
          "height": 35
        }
      },
      "source": [
        "es_rf_imp.score(X_important_test,es_test['Actual Open'])"
      ],
      "execution_count": 0,
      "outputs": [
        {
          "output_type": "execute_result",
          "data": {
            "text/plain": [
              "0.8896920948773361"
            ]
          },
          "metadata": {
            "tags": []
          },
          "execution_count": 30
        }
      ]
    },
    {
      "cell_type": "code",
      "metadata": {
        "colab_type": "code",
        "id": "Orzy73aA3GJz",
        "colab": {}
      },
      "source": [
        "es_test['Predicted Open_rf_imp'] = es_rf_imp.predict(X_important_test)"
      ],
      "execution_count": 0,
      "outputs": []
    },
    {
      "cell_type": "code",
      "metadata": {
        "colab_type": "code",
        "id": "ChJzT1AK3fcj",
        "outputId": "5ba44dd9-64d8-40fa-8efd-80fc4930103f",
        "colab": {
          "base_uri": "https://localhost:8080/",
          "height": 35
        }
      },
      "source": [
        "# Mean squared error regression loss\n",
        "from sklearn.metrics import mean_squared_error\n",
        "mean_squared_error(es_test['Actual Open'], es_test['Predicted Open_rf_imp'],squared=True)"
      ],
      "execution_count": 0,
      "outputs": [
        {
          "output_type": "execute_result",
          "data": {
            "text/plain": [
              "216.4029633443367"
            ]
          },
          "metadata": {
            "tags": []
          },
          "execution_count": 32
        }
      ]
    },
    {
      "cell_type": "code",
      "metadata": {
        "colab_type": "code",
        "id": "rhZddhs-5fgm",
        "outputId": "14a8ba95-f095-4a3b-c388-4f50e9f3503e",
        "colab": {
          "base_uri": "https://localhost:8080/",
          "height": 54
        }
      },
      "source": [
        "from sklearn.ensemble import AdaBoostRegressor\n",
        "# Create a new random forest classifier for the most important features\n",
        "es_ada_imp = AdaBoostRegressor(n_estimators=10000,learning_rate=0.01,loss='linear')\n",
        "\n",
        "# Train the new classifier on the new dataset containing the most important features\n",
        "es_ada_imp.fit(X_important_train, Y)"
      ],
      "execution_count": 0,
      "outputs": [
        {
          "output_type": "execute_result",
          "data": {
            "text/plain": [
              "AdaBoostRegressor(base_estimator=None, learning_rate=0.01, loss='linear',\n",
              "                  n_estimators=10000, random_state=None)"
            ]
          },
          "metadata": {
            "tags": []
          },
          "execution_count": 33
        }
      ]
    },
    {
      "cell_type": "code",
      "metadata": {
        "colab_type": "code",
        "id": "Q6NwPUeQ5faO",
        "outputId": "60944c2d-ce03-4f17-c998-904d930e49c7",
        "colab": {
          "base_uri": "https://localhost:8080/",
          "height": 35
        }
      },
      "source": [
        "es_ada_imp.score(X_important_test,es_test['Actual Open'])"
      ],
      "execution_count": 0,
      "outputs": [
        {
          "output_type": "execute_result",
          "data": {
            "text/plain": [
              "0.9161708972211111"
            ]
          },
          "metadata": {
            "tags": []
          },
          "execution_count": 34
        }
      ]
    },
    {
      "cell_type": "code",
      "metadata": {
        "colab_type": "code",
        "id": "j_-eAOXL8JJX",
        "colab": {}
      },
      "source": [
        "es_test['Predicted Open_ada_imp'] = es_ada_imp.predict(X_important_test)"
      ],
      "execution_count": 0,
      "outputs": []
    },
    {
      "cell_type": "code",
      "metadata": {
        "colab_type": "code",
        "id": "qhFoaH1p8Odq",
        "outputId": "5b4ad5ed-cc36-4241-f637-6c84241bcf6a",
        "colab": {
          "base_uri": "https://localhost:8080/",
          "height": 35
        }
      },
      "source": [
        "mean_squared_error(es_test['Actual Open'], es_test['Predicted Open_ada_imp'],squared=True)"
      ],
      "execution_count": 0,
      "outputs": [
        {
          "output_type": "execute_result",
          "data": {
            "text/plain": [
              "164.45662924770122"
            ]
          },
          "metadata": {
            "tags": []
          },
          "execution_count": 36
        }
      ]
    },
    {
      "cell_type": "code",
      "metadata": {
        "colab_type": "code",
        "id": "CC3JbA_m_RIw",
        "colab": {}
      },
      "source": [
        "# Parameter tuning\n",
        "from sklearn.model_selection import GridSearchCV\n",
        "params_grid = {'learning_rate':[0.01,0.02],\n",
        "                'n_estimators': [1000,10000],\n",
        "                'loss' : ['linear', 'square']}"
      ],
      "execution_count": 0,
      "outputs": []
    },
    {
      "cell_type": "code",
      "metadata": {
        "colab_type": "code",
        "id": "lXoVjyGw_REU",
        "outputId": "636fc8d9-2c7e-4723-ed37-f9083bd5fb3d",
        "colab": {
          "base_uri": "https://localhost:8080/",
          "height": 35
        }
      },
      "source": [
        "model_opt = GridSearchCV(AdaBoostRegressor(), param_grid=params_grid)\n",
        "model_opt.fit(X_important_train, Y)\n",
        "model_opt.best_params_"
      ],
      "execution_count": 0,
      "outputs": [
        {
          "output_type": "execute_result",
          "data": {
            "text/plain": [
              "{'learning_rate': 0.02, 'loss': 'square', 'n_estimators': 1000}"
            ]
          },
          "metadata": {
            "tags": []
          },
          "execution_count": 59
        }
      ]
    },
    {
      "cell_type": "code",
      "metadata": {
        "colab_type": "code",
        "id": "sMYBHYBu_RMH",
        "colab": {}
      },
      "source": [
        "# Pipeline\n",
        "import numpy as np\n",
        "from sklearn.pipeline import make_pipeline\n",
        "from sklearn.preprocessing import StandardScaler"
      ],
      "execution_count": 0,
      "outputs": []
    },
    {
      "cell_type": "code",
      "metadata": {
        "colab_type": "code",
        "id": "sWpGD5jwl9Kx",
        "outputId": "f886ab5b-b055-4cbc-b08d-9ec73ed538bd",
        "colab": {
          "base_uri": "https://localhost:8080/",
          "height": 35
        }
      },
      "source": [
        "es_pipe_ada = make_pipeline(StandardScaler(),\n",
        "                    AdaBoostRegressor(**model_opt.best_params_))\n",
        "es_pipe_ada.fit(X_important_train, Y)\n",
        "es_pipe_ada.score(X_important_test,es_test['Actual Open'])"
      ],
      "execution_count": 0,
      "outputs": [
        {
          "output_type": "execute_result",
          "data": {
            "text/plain": [
              "0.9112378384581793"
            ]
          },
          "metadata": {
            "tags": []
          },
          "execution_count": 72
        }
      ]
    },
    {
      "cell_type": "code",
      "metadata": {
        "colab_type": "code",
        "id": "t-2-veTOx-PT",
        "colab": {}
      },
      "source": [
        "es_test['Predicted Open_pipe_ada'] = es_pipe_ada.predict(X_important_test)"
      ],
      "execution_count": 0,
      "outputs": []
    },
    {
      "cell_type": "code",
      "metadata": {
        "colab_type": "code",
        "id": "sKPoPjrcx8iB",
        "outputId": "b335c899-13c1-45e7-d414-cea34fccb6c7",
        "colab": {
          "base_uri": "https://localhost:8080/",
          "height": 35
        }
      },
      "source": [
        "mean_squared_error(es_test['Actual Open'], es_test['Predicted Open_pipe_ada'],squared=True)"
      ],
      "execution_count": 0,
      "outputs": [
        {
          "output_type": "execute_result",
          "data": {
            "text/plain": [
              "174.13434485170148"
            ]
          },
          "metadata": {
            "tags": []
          },
          "execution_count": 78
        }
      ]
    },
    {
      "cell_type": "code",
      "metadata": {
        "colab_type": "code",
        "id": "b3QG9KUp_RU7",
        "outputId": "9b5daaca-0fdf-443c-ae7a-94f276acccb8",
        "colab": {
          "base_uri": "https://localhost:8080/",
          "height": 348
        }
      },
      "source": [
        "es_test.head(10)"
      ],
      "execution_count": 0,
      "outputs": [
        {
          "output_type": "execute_result",
          "data": {
            "text/html": [
              "<div>\n",
              "<style scoped>\n",
              "    .dataframe tbody tr th:only-of-type {\n",
              "        vertical-align: middle;\n",
              "    }\n",
              "\n",
              "    .dataframe tbody tr th {\n",
              "        vertical-align: top;\n",
              "    }\n",
              "\n",
              "    .dataframe thead th {\n",
              "        text-align: right;\n",
              "    }\n",
              "</style>\n",
              "<table border=\"1\" class=\"dataframe\">\n",
              "  <thead>\n",
              "    <tr style=\"text-align: right;\">\n",
              "      <th></th>\n",
              "      <th>Date</th>\n",
              "      <th>Adj Close</th>\n",
              "      <th>Volume</th>\n",
              "      <th>NIFTY Open</th>\n",
              "      <th>Actual Open</th>\n",
              "      <th>Predicted Open_rf_imp</th>\n",
              "      <th>Predicted Open_ada_imp</th>\n",
              "      <th>Predicted Open_pipe_ada</th>\n",
              "    </tr>\n",
              "  </thead>\n",
              "  <tbody>\n",
              "    <tr>\n",
              "      <th>0</th>\n",
              "      <td>4/1/2020</td>\n",
              "      <td>598.799988</td>\n",
              "      <td>4835985</td>\n",
              "      <td>8584.099609</td>\n",
              "      <td>594.000000</td>\n",
              "      <td>606.124496</td>\n",
              "      <td>614.809068</td>\n",
              "      <td>615.590553</td>\n",
              "    </tr>\n",
              "    <tr>\n",
              "      <th>1</th>\n",
              "      <td>4/3/2020</td>\n",
              "      <td>592.400024</td>\n",
              "      <td>3825217</td>\n",
              "      <td>8356.549805</td>\n",
              "      <td>623.000000</td>\n",
              "      <td>602.009399</td>\n",
              "      <td>614.487542</td>\n",
              "      <td>615.562280</td>\n",
              "    </tr>\n",
              "    <tr>\n",
              "      <th>2</th>\n",
              "      <td>4/7/2020</td>\n",
              "      <td>663.750000</td>\n",
              "      <td>4083879</td>\n",
              "      <td>8446.299805</td>\n",
              "      <td>653.700012</td>\n",
              "      <td>656.883158</td>\n",
              "      <td>643.590637</td>\n",
              "      <td>642.649152</td>\n",
              "    </tr>\n",
              "    <tr>\n",
              "      <th>3</th>\n",
              "      <td>4/8/2020</td>\n",
              "      <td>642.349976</td>\n",
              "      <td>4354813</td>\n",
              "      <td>8688.900391</td>\n",
              "      <td>661.000000</td>\n",
              "      <td>646.499001</td>\n",
              "      <td>643.260786</td>\n",
              "      <td>642.630278</td>\n",
              "    </tr>\n",
              "    <tr>\n",
              "      <th>4</th>\n",
              "      <td>4/9/2020</td>\n",
              "      <td>684.299988</td>\n",
              "      <td>3501448</td>\n",
              "      <td>8973.049805</td>\n",
              "      <td>684.299988</td>\n",
              "      <td>673.910848</td>\n",
              "      <td>685.427691</td>\n",
              "      <td>685.050319</td>\n",
              "    </tr>\n",
              "    <tr>\n",
              "      <th>5</th>\n",
              "      <td>4/13/2020</td>\n",
              "      <td>689.799988</td>\n",
              "      <td>2844324</td>\n",
              "      <td>9103.950195</td>\n",
              "      <td>706.250000</td>\n",
              "      <td>675.995397</td>\n",
              "      <td>685.621857</td>\n",
              "      <td>685.050319</td>\n",
              "    </tr>\n",
              "    <tr>\n",
              "      <th>6</th>\n",
              "      <td>4/15/2020</td>\n",
              "      <td>714.700012</td>\n",
              "      <td>6783089</td>\n",
              "      <td>9196.400391</td>\n",
              "      <td>710.000000</td>\n",
              "      <td>721.138802</td>\n",
              "      <td>721.578874</td>\n",
              "      <td>722.758210</td>\n",
              "    </tr>\n",
              "    <tr>\n",
              "      <th>7</th>\n",
              "      <td>4/16/2020</td>\n",
              "      <td>714.299988</td>\n",
              "      <td>3882012</td>\n",
              "      <td>8851.250000</td>\n",
              "      <td>744.000000</td>\n",
              "      <td>721.042502</td>\n",
              "      <td>721.578874</td>\n",
              "      <td>722.689898</td>\n",
              "    </tr>\n",
              "    <tr>\n",
              "      <th>8</th>\n",
              "      <td>4/17/2020</td>\n",
              "      <td>746.200012</td>\n",
              "      <td>5154012</td>\n",
              "      <td>9323.450195</td>\n",
              "      <td>749.450012</td>\n",
              "      <td>753.484604</td>\n",
              "      <td>730.304406</td>\n",
              "      <td>729.201945</td>\n",
              "    </tr>\n",
              "    <tr>\n",
              "      <th>9</th>\n",
              "      <td>4/20/2020</td>\n",
              "      <td>746.099976</td>\n",
              "      <td>2819316</td>\n",
              "      <td>9390.200195</td>\n",
              "      <td>725.049988</td>\n",
              "      <td>753.484604</td>\n",
              "      <td>730.304406</td>\n",
              "      <td>729.201945</td>\n",
              "    </tr>\n",
              "  </tbody>\n",
              "</table>\n",
              "</div>"
            ],
            "text/plain": [
              "        Date   Adj Close  ...  Predicted Open_ada_imp  Predicted Open_pipe_ada\n",
              "0   4/1/2020  598.799988  ...              614.809068               615.590553\n",
              "1   4/3/2020  592.400024  ...              614.487542               615.562280\n",
              "2   4/7/2020  663.750000  ...              643.590637               642.649152\n",
              "3   4/8/2020  642.349976  ...              643.260786               642.630278\n",
              "4   4/9/2020  684.299988  ...              685.427691               685.050319\n",
              "5  4/13/2020  689.799988  ...              685.621857               685.050319\n",
              "6  4/15/2020  714.700012  ...              721.578874               722.758210\n",
              "7  4/16/2020  714.299988  ...              721.578874               722.689898\n",
              "8  4/17/2020  746.200012  ...              730.304406               729.201945\n",
              "9  4/20/2020  746.099976  ...              730.304406               729.201945\n",
              "\n",
              "[10 rows x 8 columns]"
            ]
          },
          "metadata": {
            "tags": []
          },
          "execution_count": 79
        }
      ]
    },
    {
      "cell_type": "markdown",
      "metadata": {
        "id": "cdtpET-D1xW-",
        "colab_type": "text"
      },
      "source": [
        "Finally, How to explain the outcome of this model?\n",
        "\n",
        "Compare the predicted outputs with actual"
      ]
    },
    {
      "cell_type": "code",
      "metadata": {
        "id": "A0rQ36J3rffk",
        "colab_type": "code",
        "colab": {}
      },
      "source": [
        "# plotting\n",
        "import matplotlib.pyplot as plt"
      ],
      "execution_count": 0,
      "outputs": []
    },
    {
      "cell_type": "code",
      "metadata": {
        "id": "va2omOPlzed5",
        "colab_type": "code",
        "outputId": "b0b33ea6-e7a6-4e8c-e0fc-eb01910a4ef7",
        "colab": {
          "base_uri": "https://localhost:8080/",
          "height": 326
        }
      },
      "source": [
        "plt.figure(figsize=(20,5))\n",
        "plt.plot(es_test['Date'],es_test['Actual Open'],label='Actual Open')\n",
        "plt.plot(es_test['Date'],es_test['Predicted Open_rf_imp'],label='Predicted Open_rf_imp')\n",
        "plt.plot(es_test['Date'],es_test['Predicted Open_ada_imp'],label='Predicted Open_ada_imp')\n",
        "plt.plot(es_test['Date'],es_test['Predicted Open_pipe_ada'],label='Predicted Open_pipe_ada')\n",
        "plt.legend()\n",
        "plt.title(\"Comparing actual open price with predicted prices of 3 models\")\n",
        "plt.show()"
      ],
      "execution_count": 0,
      "outputs": [
        {
          "output_type": "display_data",
          "data": {
            "image/png": "[encoded data removed]",
            "text/plain": [
              "<Figure size 1440x360 with 1 Axes>"
            ]
          },
          "metadata": {
            "tags": [],
            "needs_background": "light"
          }
        }
      ]
    },
    {
      "cell_type": "code",
      "metadata": {
        "colab_type": "code",
        "id": "VJVTlOhpwfm5",
        "colab": {}
      },
      "source": [
        "# save the optimised model\n",
        "#from joblib import dump, load\n",
        "#dump(es_pipe_ada, 'escort_prediction.joblib')"
      ],
      "execution_count": 0,
      "outputs": []
    },
    {
      "cell_type": "markdown",
      "metadata": {
        "colab_type": "text",
        "id": "8KdwAaGQDS3i"
      },
      "source": [
        "## NEXT STEPS"
      ]
    },
    {
      "cell_type": "markdown",
      "metadata": {
        "colab_type": "text",
        "id": "5I08RCbGDS3j"
      },
      "source": [
        "### Try different algorithms, optimization methods to reduce the mean squared error to a value in the 100+ range"
      ]
    },
    {
      "cell_type": "markdown",
      "metadata": {
        "colab_type": "text",
        "id": "w40cglfjDS3k"
      },
      "source": [
        "## Add following features\n",
        "### Trading day's open price depends on the following:\n",
        "### Previous day's US closing index (Nasdaq)\n",
        "### Asian's markets open index (Nikkie 225, Shangai Composite, Hang Seng)\n",
        "### Singapore NIFTY 50 index at the time Trading day start"
      ]
    },
    {
      "cell_type": "markdown",
      "metadata": {
        "colab_type": "text",
        "id": "RSfbuFsxDS3l"
      },
      "source": [
        "## Deploy the model on trading platform to pick the opening price"
      ]
    },
    {
      "cell_type": "code",
      "metadata": {
        "colab_type": "code",
        "id": "ZcYCZqUqDS3m",
        "colab": {}
      },
      "source": [
        ""
      ],
      "execution_count": 0,
      "outputs": []
    }
  ]
}