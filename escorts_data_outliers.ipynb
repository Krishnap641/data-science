{
  "nbformat": 4,
  "nbformat_minor": 0,
  "metadata": {
    "kernelspec": {
      "display_name": "Python 3",
      "language": "python",
      "name": "python3"
    },
    "language_info": {
      "codemirror_mode": {
        "name": "ipython",
        "version": 3
      },
      "file_extension": ".py",
      "mimetype": "text/x-python",
      "name": "python",
      "nbconvert_exporter": "python",
      "pygments_lexer": "ipython3",
      "version": "3.7.6"
    },
    "colab": {
      "name": "escorts_data_outliers.ipynb",
      "provenance": [],
      "collapsed_sections": []
    }
  },
  "cells": [
    {
      "cell_type": "markdown",
      "metadata": {
        "id": "duyGGJ13DS0w",
        "colab_type": "text"
      },
      "source": [
        "# OUTLIER DETECTION\n",
        "### AUTHOR : XXX\n",
        "### DATE WRITTEN: dd-mm-yyyy\n",
        "### "
      ]
    },
    {
      "cell_type": "code",
      "metadata": {
        "id": "nvnVgQulDS0y",
        "colab_type": "code",
        "colab": {}
      },
      "source": [
        "import pandas as pd\n",
        "import numpy as np"
      ],
      "execution_count": 0,
      "outputs": []
    },
    {
      "cell_type": "code",
      "metadata": {
        "id": "6191fZCMHv-X",
        "colab_type": "code",
        "colab": {}
      },
      "source": [
        "from sklearn.ensemble import RandomForestClassifier, RandomForestRegressor\n",
        "from sklearn.feature_selection import SelectFromModel"
      ],
      "execution_count": 0,
      "outputs": []
    },
    {
      "cell_type": "code",
      "metadata": {
        "id": "-g-Rqc51DS08",
        "colab_type": "code",
        "colab": {}
      },
      "source": [
        "import warnings\n",
        "warnings.filterwarnings(\"ignore\")"
      ],
      "execution_count": 0,
      "outputs": []
    },
    {
      "cell_type": "code",
      "metadata": {
        "id": "QYwEC9ATEglq",
        "colab_type": "code",
        "outputId": "14f12793-5d97-431e-e3d4-c9eac81bde01",
        "colab": {
          "base_uri": "https://localhost:8080/",
          "height": 128
        }
      },
      "source": [
        "from google.colab import drive\n",
        "drive.mount('/content/drive')"
      ],
      "execution_count": 0,
      "outputs": [
        {
          "output_type": "stream",
          "text": [
            "Go to this URL in a browser: https://accounts.google.com/o/oauth2/auth?client_id=947318989803-6bn6qk8qdgf4n4g3pfee6491hc0brc4i.apps.googleusercontent.com&redirect_uri=urn%3aietf%3awg%3aoauth%3a2.0%3aoob&response_type=code&scope=email%20https%3a%2f%2fwww.googleapis.com%2fauth%2fdocs.test%20https%3a%2f%2fwww.googleapis.com%2fauth%2fdrive%20https%3a%2f%2fwww.googleapis.com%2fauth%2fdrive.photos.readonly%20https%3a%2f%2fwww.googleapis.com%2fauth%2fpeopleapi.readonly\n",
            "\n",
            "Enter your authorization code:\n",
            "··········\n",
            "Mounted at /content/drive\n"
          ],
          "name": "stdout"
        }
      ]
    },
    {
      "cell_type": "code",
      "metadata": {
        "id": "__HdwC_IDS1C",
        "colab_type": "code",
        "colab": {}
      },
      "source": [
        "es_train = pd.read_csv('/content/drive/My Drive/Data Science Classroom/dataset/ESCORTS_TRAIN.csv')\n",
        "es_test = pd.read_csv('/content/drive/My Drive/Data Science Classroom/dataset/ESCORTS_TEST.csv')"
      ],
      "execution_count": 0,
      "outputs": []
    },
    {
      "cell_type": "code",
      "metadata": {
        "id": "WsB0IsoGDS1I",
        "colab_type": "code",
        "outputId": "ea3af27b-4674-4f42-be83-5ebf19107e92",
        "colab": {
          "base_uri": "https://localhost:8080/",
          "height": 198
        }
      },
      "source": [
        "es_train.head()"
      ],
      "execution_count": 0,
      "outputs": [
        {
          "output_type": "execute_result",
          "data": {
            "text/html": [
              "<div>\n",
              "<style scoped>\n",
              "    .dataframe tbody tr th:only-of-type {\n",
              "        vertical-align: middle;\n",
              "    }\n",
              "\n",
              "    .dataframe tbody tr th {\n",
              "        vertical-align: top;\n",
              "    }\n",
              "\n",
              "    .dataframe thead th {\n",
              "        text-align: right;\n",
              "    }\n",
              "</style>\n",
              "<table border=\"1\" class=\"dataframe\">\n",
              "  <thead>\n",
              "    <tr style=\"text-align: right;\">\n",
              "      <th></th>\n",
              "      <th>Date</th>\n",
              "      <th>Adj Close</th>\n",
              "      <th>Volume</th>\n",
              "      <th>NIFTY Open</th>\n",
              "      <th>Stock Open price</th>\n",
              "    </tr>\n",
              "  </thead>\n",
              "  <tbody>\n",
              "    <tr>\n",
              "      <th>0</th>\n",
              "      <td>4/1/2015</td>\n",
              "      <td>124.459732</td>\n",
              "      <td>650074.0</td>\n",
              "      <td>8483.700195</td>\n",
              "      <td>127.199997</td>\n",
              "    </tr>\n",
              "    <tr>\n",
              "      <th>1</th>\n",
              "      <td>4/6/2015</td>\n",
              "      <td>123.332298</td>\n",
              "      <td>352110.0</td>\n",
              "      <td>8615.799805</td>\n",
              "      <td>126.800003</td>\n",
              "    </tr>\n",
              "    <tr>\n",
              "      <th>2</th>\n",
              "      <td>4/7/2015</td>\n",
              "      <td>132.891037</td>\n",
              "      <td>2074275.0</td>\n",
              "      <td>8684.450195</td>\n",
              "      <td>136.800003</td>\n",
              "    </tr>\n",
              "    <tr>\n",
              "      <th>3</th>\n",
              "      <td>4/8/2015</td>\n",
              "      <td>136.224350</td>\n",
              "      <td>1811574.0</td>\n",
              "      <td>8698.950195</td>\n",
              "      <td>139.600006</td>\n",
              "    </tr>\n",
              "    <tr>\n",
              "      <th>4</th>\n",
              "      <td>4/9/2015</td>\n",
              "      <td>133.136139</td>\n",
              "      <td>596295.0</td>\n",
              "      <td>8756.200195</td>\n",
              "      <td>136.350006</td>\n",
              "    </tr>\n",
              "  </tbody>\n",
              "</table>\n",
              "</div>"
            ],
            "text/plain": [
              "       Date   Adj Close     Volume   NIFTY Open  Stock Open price\n",
              "0  4/1/2015  124.459732   650074.0  8483.700195        127.199997\n",
              "1  4/6/2015  123.332298   352110.0  8615.799805        126.800003\n",
              "2  4/7/2015  132.891037  2074275.0  8684.450195        136.800003\n",
              "3  4/8/2015  136.224350  1811574.0  8698.950195        139.600006\n",
              "4  4/9/2015  133.136139   596295.0  8756.200195        136.350006"
            ]
          },
          "metadata": {
            "tags": []
          },
          "execution_count": 128
        }
      ]
    },
    {
      "cell_type": "code",
      "metadata": {
        "id": "KZ8plMrxDS1Q",
        "colab_type": "code",
        "outputId": "366eb385-0637-481e-baff-fecf29794ec7",
        "colab": {
          "base_uri": "https://localhost:8080/",
          "height": 126
        }
      },
      "source": [
        "es_train.isnull().sum()"
      ],
      "execution_count": 0,
      "outputs": [
        {
          "output_type": "execute_result",
          "data": {
            "text/plain": [
              "Date                0\n",
              "Adj Close           1\n",
              "Volume              1\n",
              "NIFTY Open          6\n",
              "Stock Open price    2\n",
              "dtype: int64"
            ]
          },
          "metadata": {
            "tags": []
          },
          "execution_count": 129
        }
      ]
    },
    {
      "cell_type": "code",
      "metadata": {
        "id": "8AZmA8OfDS1X",
        "colab_type": "code",
        "outputId": "1c2506b4-94b9-40ea-fbdb-ea6abd4e6c9f",
        "colab": {
          "base_uri": "https://localhost:8080/",
          "height": 78
        }
      },
      "source": [
        "# display the record\n",
        "es_train[es_train['Adj Close'].isnull()]"
      ],
      "execution_count": 0,
      "outputs": [
        {
          "output_type": "execute_result",
          "data": {
            "text/html": [
              "<div>\n",
              "<style scoped>\n",
              "    .dataframe tbody tr th:only-of-type {\n",
              "        vertical-align: middle;\n",
              "    }\n",
              "\n",
              "    .dataframe tbody tr th {\n",
              "        vertical-align: top;\n",
              "    }\n",
              "\n",
              "    .dataframe thead th {\n",
              "        text-align: right;\n",
              "    }\n",
              "</style>\n",
              "<table border=\"1\" class=\"dataframe\">\n",
              "  <thead>\n",
              "    <tr style=\"text-align: right;\">\n",
              "      <th></th>\n",
              "      <th>Date</th>\n",
              "      <th>Adj Close</th>\n",
              "      <th>Volume</th>\n",
              "      <th>NIFTY Open</th>\n",
              "      <th>Stock Open price</th>\n",
              "    </tr>\n",
              "  </thead>\n",
              "  <tbody>\n",
              "    <tr>\n",
              "      <th>1123</th>\n",
              "      <td>10/27/2019</td>\n",
              "      <td>NaN</td>\n",
              "      <td>NaN</td>\n",
              "      <td>NaN</td>\n",
              "      <td>644.0</td>\n",
              "    </tr>\n",
              "  </tbody>\n",
              "</table>\n",
              "</div>"
            ],
            "text/plain": [
              "            Date  Adj Close  Volume  NIFTY Open  Stock Open price\n",
              "1123  10/27/2019        NaN     NaN         NaN             644.0"
            ]
          },
          "metadata": {
            "tags": []
          },
          "execution_count": 130
        }
      ]
    },
    {
      "cell_type": "code",
      "metadata": {
        "id": "OYiQeITzDS1d",
        "colab_type": "code",
        "outputId": "099de8d4-5c0d-478c-e01a-f84ce5cfe856",
        "colab": {
          "base_uri": "https://localhost:8080/",
          "height": 78
        }
      },
      "source": [
        "es_train[es_train['Volume'].isnull()]"
      ],
      "execution_count": 0,
      "outputs": [
        {
          "output_type": "execute_result",
          "data": {
            "text/html": [
              "<div>\n",
              "<style scoped>\n",
              "    .dataframe tbody tr th:only-of-type {\n",
              "        vertical-align: middle;\n",
              "    }\n",
              "\n",
              "    .dataframe tbody tr th {\n",
              "        vertical-align: top;\n",
              "    }\n",
              "\n",
              "    .dataframe thead th {\n",
              "        text-align: right;\n",
              "    }\n",
              "</style>\n",
              "<table border=\"1\" class=\"dataframe\">\n",
              "  <thead>\n",
              "    <tr style=\"text-align: right;\">\n",
              "      <th></th>\n",
              "      <th>Date</th>\n",
              "      <th>Adj Close</th>\n",
              "      <th>Volume</th>\n",
              "      <th>NIFTY Open</th>\n",
              "      <th>Stock Open price</th>\n",
              "    </tr>\n",
              "  </thead>\n",
              "  <tbody>\n",
              "    <tr>\n",
              "      <th>1123</th>\n",
              "      <td>10/27/2019</td>\n",
              "      <td>NaN</td>\n",
              "      <td>NaN</td>\n",
              "      <td>NaN</td>\n",
              "      <td>644.0</td>\n",
              "    </tr>\n",
              "  </tbody>\n",
              "</table>\n",
              "</div>"
            ],
            "text/plain": [
              "            Date  Adj Close  Volume  NIFTY Open  Stock Open price\n",
              "1123  10/27/2019        NaN     NaN         NaN             644.0"
            ]
          },
          "metadata": {
            "tags": []
          },
          "execution_count": 131
        }
      ]
    },
    {
      "cell_type": "code",
      "metadata": {
        "id": "9mQ9eIamDS1k",
        "colab_type": "code",
        "outputId": "a63e07ec-ef3f-4161-829a-501e50354368",
        "colab": {
          "base_uri": "https://localhost:8080/",
          "height": 228
        }
      },
      "source": [
        "es_train[es_train['NIFTY Open'].isnull()]"
      ],
      "execution_count": 0,
      "outputs": [
        {
          "output_type": "execute_result",
          "data": {
            "text/html": [
              "<div>\n",
              "<style scoped>\n",
              "    .dataframe tbody tr th:only-of-type {\n",
              "        vertical-align: middle;\n",
              "    }\n",
              "\n",
              "    .dataframe tbody tr th {\n",
              "        vertical-align: top;\n",
              "    }\n",
              "\n",
              "    .dataframe thead th {\n",
              "        text-align: right;\n",
              "    }\n",
              "</style>\n",
              "<table border=\"1\" class=\"dataframe\">\n",
              "  <thead>\n",
              "    <tr style=\"text-align: right;\">\n",
              "      <th></th>\n",
              "      <th>Date</th>\n",
              "      <th>Adj Close</th>\n",
              "      <th>Volume</th>\n",
              "      <th>NIFTY Open</th>\n",
              "      <th>Stock Open price</th>\n",
              "    </tr>\n",
              "  </thead>\n",
              "  <tbody>\n",
              "    <tr>\n",
              "      <th>7</th>\n",
              "      <td>4/15/2015</td>\n",
              "      <td>132.449860</td>\n",
              "      <td>525209.0</td>\n",
              "      <td>NaN</td>\n",
              "      <td>135.449997</td>\n",
              "    </tr>\n",
              "    <tr>\n",
              "      <th>185</th>\n",
              "      <td>1/1/2016</td>\n",
              "      <td>168.042999</td>\n",
              "      <td>335512.0</td>\n",
              "      <td>NaN</td>\n",
              "      <td>168.000000</td>\n",
              "    </tr>\n",
              "    <tr>\n",
              "      <th>337</th>\n",
              "      <td>8/12/2016</td>\n",
              "      <td>295.803101</td>\n",
              "      <td>6365901.0</td>\n",
              "      <td>NaN</td>\n",
              "      <td>300.799988</td>\n",
              "    </tr>\n",
              "    <tr>\n",
              "      <th>679</th>\n",
              "      <td>1/1/2018</td>\n",
              "      <td>769.035706</td>\n",
              "      <td>1246643.0</td>\n",
              "      <td>NaN</td>\n",
              "      <td>780.150024</td>\n",
              "    </tr>\n",
              "    <tr>\n",
              "      <th>925</th>\n",
              "      <td>1/1/2019</td>\n",
              "      <td>716.453003</td>\n",
              "      <td>3301665.0</td>\n",
              "      <td>NaN</td>\n",
              "      <td>721.500000</td>\n",
              "    </tr>\n",
              "    <tr>\n",
              "      <th>1123</th>\n",
              "      <td>10/27/2019</td>\n",
              "      <td>NaN</td>\n",
              "      <td>NaN</td>\n",
              "      <td>NaN</td>\n",
              "      <td>644.000000</td>\n",
              "    </tr>\n",
              "  </tbody>\n",
              "</table>\n",
              "</div>"
            ],
            "text/plain": [
              "            Date   Adj Close     Volume  NIFTY Open  Stock Open price\n",
              "7      4/15/2015  132.449860   525209.0         NaN        135.449997\n",
              "185     1/1/2016  168.042999   335512.0         NaN        168.000000\n",
              "337    8/12/2016  295.803101  6365901.0         NaN        300.799988\n",
              "679     1/1/2018  769.035706  1246643.0         NaN        780.150024\n",
              "925     1/1/2019  716.453003  3301665.0         NaN        721.500000\n",
              "1123  10/27/2019         NaN        NaN         NaN        644.000000"
            ]
          },
          "metadata": {
            "tags": []
          },
          "execution_count": 132
        }
      ]
    },
    {
      "cell_type": "code",
      "metadata": {
        "id": "ckzbbimyDS1q",
        "colab_type": "code",
        "outputId": "f11b6739-8400-437e-da6b-7d04df7c022e",
        "colab": {
          "base_uri": "https://localhost:8080/",
          "height": 108
        }
      },
      "source": [
        "es_train[es_train['Stock Open price'].isnull()]"
      ],
      "execution_count": 0,
      "outputs": [
        {
          "output_type": "execute_result",
          "data": {
            "text/html": [
              "<div>\n",
              "<style scoped>\n",
              "    .dataframe tbody tr th:only-of-type {\n",
              "        vertical-align: middle;\n",
              "    }\n",
              "\n",
              "    .dataframe tbody tr th {\n",
              "        vertical-align: top;\n",
              "    }\n",
              "\n",
              "    .dataframe thead th {\n",
              "        text-align: right;\n",
              "    }\n",
              "</style>\n",
              "<table border=\"1\" class=\"dataframe\">\n",
              "  <thead>\n",
              "    <tr style=\"text-align: right;\">\n",
              "      <th></th>\n",
              "      <th>Date</th>\n",
              "      <th>Adj Close</th>\n",
              "      <th>Volume</th>\n",
              "      <th>NIFTY Open</th>\n",
              "      <th>Stock Open price</th>\n",
              "    </tr>\n",
              "  </thead>\n",
              "  <tbody>\n",
              "    <tr>\n",
              "      <th>1122</th>\n",
              "      <td>10/25/2019</td>\n",
              "      <td>640.000000</td>\n",
              "      <td>1995407.0</td>\n",
              "      <td>11646.150390</td>\n",
              "      <td>NaN</td>\n",
              "    </tr>\n",
              "    <tr>\n",
              "      <th>1229</th>\n",
              "      <td>3/30/2020</td>\n",
              "      <td>601.599976</td>\n",
              "      <td>2084182.0</td>\n",
              "      <td>8385.950195</td>\n",
              "      <td>NaN</td>\n",
              "    </tr>\n",
              "  </tbody>\n",
              "</table>\n",
              "</div>"
            ],
            "text/plain": [
              "            Date   Adj Close     Volume    NIFTY Open  Stock Open price\n",
              "1122  10/25/2019  640.000000  1995407.0  11646.150390               NaN\n",
              "1229   3/30/2020  601.599976  2084182.0   8385.950195               NaN"
            ]
          },
          "metadata": {
            "tags": []
          },
          "execution_count": 133
        }
      ]
    },
    {
      "cell_type": "code",
      "metadata": {
        "id": "GjJfhdvlDS1v",
        "colab_type": "code",
        "colab": {}
      },
      "source": [
        "# stratagies to fill null values\n",
        "es_train['Stock Open price'][es_train['Date'] == '10/25/2019'] = es_train['Stock Open price'][es_train['Date'] == '10/27/2019']\n",
        "es_train['NIFTY Open'].fillna(es_train['NIFTY Open'].mean(),inplace=True)\n",
        "es_train.dropna(axis=0,inplace=True)"
      ],
      "execution_count": 0,
      "outputs": []
    },
    {
      "cell_type": "code",
      "metadata": {
        "id": "H-mpoE2dDS11",
        "colab_type": "code",
        "outputId": "8e1cdff8-4b63-4185-fb40-a6677b938189",
        "colab": {
          "base_uri": "https://localhost:8080/",
          "height": 126
        }
      },
      "source": [
        "es_train.isnull().sum()"
      ],
      "execution_count": 0,
      "outputs": [
        {
          "output_type": "execute_result",
          "data": {
            "text/plain": [
              "Date                0\n",
              "Adj Close           0\n",
              "Volume              0\n",
              "NIFTY Open          0\n",
              "Stock Open price    0\n",
              "dtype: int64"
            ]
          },
          "metadata": {
            "tags": []
          },
          "execution_count": 135
        }
      ]
    },
    {
      "cell_type": "markdown",
      "metadata": {
        "id": "g2K5vs9enpG3",
        "colab_type": "text"
      },
      "source": [
        "Calcuate Z scores for outlier detection"
      ]
    },
    {
      "cell_type": "code",
      "metadata": {
        "id": "5LRPqvfje_qc",
        "colab_type": "code",
        "colab": {}
      },
      "source": [
        "from scipy import stats\n",
        "df = es_train.iloc[:,1:]\n",
        "z_scores = stats.zscore(df)"
      ],
      "execution_count": 0,
      "outputs": []
    },
    {
      "cell_type": "code",
      "metadata": {
        "id": "rJRp8LIykD6b",
        "colab_type": "code",
        "outputId": "c8b88f13-6bd0-4d0e-d193-0cd92cf06f91",
        "colab": {
          "base_uri": "https://localhost:8080/",
          "height": 145
        }
      },
      "source": [
        "print(z_scores)"
      ],
      "execution_count": 0,
      "outputs": [
        {
          "output_type": "stream",
          "text": [
            "[[-1.46392855 -0.66760012 -0.88147588 -1.46191025]\n",
            " [-1.46820208 -0.86333613 -0.79058462 -1.46342031]\n",
            " [-1.43196974  0.26797401 -0.74334966 -1.42566838]\n",
            " ...\n",
            " [ 0.51637826  0.79910739 -1.39651661  0.50043505]\n",
            " [ 0.57816326  0.60680375 -0.90397528  0.58726449]\n",
            " [ 0.54632302  1.12927509 -0.56125738  0.41360562]]\n"
          ],
          "name": "stdout"
        }
      ]
    },
    {
      "cell_type": "code",
      "metadata": {
        "id": "kBac44Xwi1gY",
        "colab_type": "code",
        "outputId": "8519fcf9-5ef0-423e-847e-0afd1e77f2fe",
        "colab": {
          "base_uri": "https://localhost:8080/",
          "height": 35
        }
      },
      "source": [
        "print(np.where(np.abs(z_scores) > 10))"
      ],
      "execution_count": 0,
      "outputs": [
        {
          "output_type": "stream",
          "text": [
            "(array([ 301, 1187]), array([1, 1]))\n"
          ],
          "name": "stdout"
        }
      ]
    },
    {
      "cell_type": "code",
      "metadata": {
        "id": "2rXANUv7lj0J",
        "colab_type": "code",
        "outputId": "156683ea-4bda-49a3-dcc5-d343328c99d7",
        "colab": {
          "base_uri": "https://localhost:8080/",
          "height": 35
        }
      },
      "source": [
        "print(z_scores[1187][1])"
      ],
      "execution_count": 0,
      "outputs": [
        {
          "output_type": "stream",
          "text": [
            "10.150900040714639\n"
          ],
          "name": "stdout"
        }
      ]
    },
    {
      "cell_type": "code",
      "metadata": {
        "id": "FMZL4tkim5UP",
        "colab_type": "code",
        "colab": {}
      },
      "source": [
        "abs_z_scores = np.abs(z_scores)\n",
        "filtered_entries = (abs_z_scores < 3).all(axis=1)\n",
        "z_es_train = es_train[filtered_entries]"
      ],
      "execution_count": 0,
      "outputs": []
    },
    {
      "cell_type": "code",
      "metadata": {
        "id": "BGzfolI7nmp6",
        "colab_type": "code",
        "outputId": "61b042d2-5da0-47e0-bc44-a64a57cf921f",
        "colab": {
          "base_uri": "https://localhost:8080/",
          "height": 35
        }
      },
      "source": [
        "es_train.shape"
      ],
      "execution_count": 0,
      "outputs": [
        {
          "output_type": "execute_result",
          "data": {
            "text/plain": [
              "(1227, 5)"
            ]
          },
          "metadata": {
            "tags": []
          },
          "execution_count": 141
        }
      ]
    },
    {
      "cell_type": "code",
      "metadata": {
        "id": "eMjORp8Eod5j",
        "colab_type": "code",
        "outputId": "fdd078cb-e976-420f-91f9-afc490939e9b",
        "colab": {
          "base_uri": "https://localhost:8080/",
          "height": 35
        }
      },
      "source": [
        "z_es_train.shape"
      ],
      "execution_count": 0,
      "outputs": [
        {
          "output_type": "execute_result",
          "data": {
            "text/plain": [
              "(1208, 5)"
            ]
          },
          "metadata": {
            "tags": []
          },
          "execution_count": 142
        }
      ]
    },
    {
      "cell_type": "code",
      "metadata": {
        "id": "ZCsH0022ut00",
        "colab_type": "code",
        "colab": {}
      },
      "source": [
        "es_train = z_es_train"
      ],
      "execution_count": 0,
      "outputs": []
    },
    {
      "cell_type": "code",
      "metadata": {
        "id": "X9cuaA3gDS2Q",
        "colab_type": "code",
        "colab": {}
      },
      "source": [
        "X = es_train[es_train.columns[1:-1]]\n",
        "Y = es_train[es_train.columns[-1]]"
      ],
      "execution_count": 0,
      "outputs": []
    },
    {
      "cell_type": "code",
      "metadata": {
        "id": "12hQq-w3DS26",
        "colab_type": "code",
        "colab": {}
      },
      "source": [
        "es_test.dropna(axis=0,inplace=True)"
      ],
      "execution_count": 0,
      "outputs": []
    },
    {
      "cell_type": "code",
      "metadata": {
        "id": "qarM2ZMUDS3E",
        "colab_type": "code",
        "colab": {}
      },
      "source": [
        "X_test = es_test[es_test.columns[1:-1]]"
      ],
      "execution_count": 0,
      "outputs": []
    },
    {
      "cell_type": "code",
      "metadata": {
        "id": "xzOGfA8-saMf",
        "colab_type": "code",
        "colab": {}
      },
      "source": [
        "# Create a list of feature names\n",
        "feat_labels = list(es_train.axes[1])[1:-1]"
      ],
      "execution_count": 0,
      "outputs": []
    },
    {
      "cell_type": "code",
      "metadata": {
        "id": "YjnGzA4hDS2W",
        "colab_type": "code",
        "colab": {}
      },
      "source": [
        "# Create a random forest classifier\n",
        "es_rf = RandomForestRegressor(n_estimators=10000, random_state=40, n_jobs=-1)"
      ],
      "execution_count": 0,
      "outputs": []
    },
    {
      "cell_type": "code",
      "metadata": {
        "id": "iUEFdXCqDS2b",
        "colab_type": "code",
        "outputId": "307bf0f0-4992-417a-ac85-e0631bdc4662",
        "colab": {
          "base_uri": "https://localhost:8080/",
          "height": 145
        }
      },
      "source": [
        "# Train the classifier\n",
        "es_rf.fit(X, Y)"
      ],
      "execution_count": 0,
      "outputs": [
        {
          "output_type": "execute_result",
          "data": {
            "text/plain": [
              "RandomForestRegressor(bootstrap=True, ccp_alpha=0.0, criterion='mse',\n",
              "                      max_depth=None, max_features='auto', max_leaf_nodes=None,\n",
              "                      max_samples=None, min_impurity_decrease=0.0,\n",
              "                      min_impurity_split=None, min_samples_leaf=1,\n",
              "                      min_samples_split=2, min_weight_fraction_leaf=0.0,\n",
              "                      n_estimators=10000, n_jobs=-1, oob_score=False,\n",
              "                      random_state=40, verbose=0, warm_start=False)"
            ]
          },
          "metadata": {
            "tags": []
          },
          "execution_count": 149
        }
      ]
    },
    {
      "cell_type": "code",
      "metadata": {
        "id": "y2cMBBzIDS2h",
        "colab_type": "code",
        "outputId": "7ecbf1a4-71ff-454a-9265-2e3044e18f70",
        "colab": {
          "base_uri": "https://localhost:8080/",
          "height": 72
        }
      },
      "source": [
        "# Print the name and gini importance of each feature\n",
        "for feature in zip(feat_labels, es_rf.feature_importances_):\n",
        "    print(feature)"
      ],
      "execution_count": 0,
      "outputs": [
        {
          "output_type": "stream",
          "text": [
            "('Adj Close', 0.9994898534126526)\n",
            "('Volume', 8.785606326875858e-05)\n",
            "('NIFTY Open', 0.0004222905240786609)\n"
          ],
          "name": "stdout"
        }
      ]
    },
    {
      "cell_type": "code",
      "metadata": {
        "id": "voYzO2Pkuzt0",
        "colab_type": "code",
        "outputId": "789bc27e-a58d-412c-ddbd-6f5c11300fcb",
        "colab": {
          "base_uri": "https://localhost:8080/",
          "height": 308
        }
      },
      "source": [
        "# Create a selector object that will use the random forest classifier to identify\n",
        "# features that have an importance of more than 0.15\n",
        "sfm = SelectFromModel(es_rf, threshold=0.0003)\n",
        "\n",
        "# Train the selector\n",
        "sfm.fit(X, Y)"
      ],
      "execution_count": 0,
      "outputs": [
        {
          "output_type": "execute_result",
          "data": {
            "text/plain": [
              "SelectFromModel(estimator=RandomForestRegressor(bootstrap=True, ccp_alpha=0.0,\n",
              "                                                criterion='mse', max_depth=None,\n",
              "                                                max_features='auto',\n",
              "                                                max_leaf_nodes=None,\n",
              "                                                max_samples=None,\n",
              "                                                min_impurity_decrease=0.0,\n",
              "                                                min_impurity_split=None,\n",
              "                                                min_samples_leaf=1,\n",
              "                                                min_samples_split=2,\n",
              "                                                min_weight_fraction_leaf=0.0,\n",
              "                                                n_estimators=10000, n_jobs=-1,\n",
              "                                                oob_score=False,\n",
              "                                                random_state=40, verbose=0,\n",
              "                                                warm_start=False),\n",
              "                max_features=None, norm_order=1, prefit=False,\n",
              "                threshold=0.0003)"
            ]
          },
          "metadata": {
            "tags": []
          },
          "execution_count": 151
        }
      ]
    },
    {
      "cell_type": "code",
      "metadata": {
        "id": "NcRfP0Nkuz8v",
        "colab_type": "code",
        "outputId": "83c0c2a9-b699-439e-f4c2-20f4c30555f6",
        "colab": {
          "base_uri": "https://localhost:8080/",
          "height": 54
        }
      },
      "source": [
        "# Print the names of the most important features\n",
        "for feature_list_index in sfm.get_support(indices=True):\n",
        "    print(feat_labels[feature_list_index])"
      ],
      "execution_count": 0,
      "outputs": [
        {
          "output_type": "stream",
          "text": [
            "Adj Close\n",
            "NIFTY Open\n"
          ],
          "name": "stdout"
        }
      ]
    },
    {
      "cell_type": "code",
      "metadata": {
        "id": "-hObPU1e1Aav",
        "colab_type": "code",
        "colab": {}
      },
      "source": [
        "# Transform the data to create a new dataset containing only the most important features\n",
        "# Note: We have to apply the transform to both the training X and test X data.\n",
        "X_important_train = sfm.transform(X)\n",
        "X_important_test = sfm.transform(X_test)"
      ],
      "execution_count": 0,
      "outputs": []
    },
    {
      "cell_type": "code",
      "metadata": {
        "id": "2An1loV8u0Jx",
        "colab_type": "code",
        "outputId": "67e261f2-da30-434d-e53b-6b1a32e9441e",
        "colab": {
          "base_uri": "https://localhost:8080/",
          "height": 145
        }
      },
      "source": [
        "# Create a new random forest classifier for the most important features\n",
        "es_rf_imp = RandomForestRegressor(n_estimators=10000)\n",
        "\n",
        "# Train the new classifier on the new dataset containing the most important features\n",
        "es_rf_imp.fit(X_important_train, Y)"
      ],
      "execution_count": 0,
      "outputs": [
        {
          "output_type": "execute_result",
          "data": {
            "text/plain": [
              "RandomForestRegressor(bootstrap=True, ccp_alpha=0.0, criterion='mse',\n",
              "                      max_depth=None, max_features='auto', max_leaf_nodes=None,\n",
              "                      max_samples=None, min_impurity_decrease=0.0,\n",
              "                      min_impurity_split=None, min_samples_leaf=1,\n",
              "                      min_samples_split=2, min_weight_fraction_leaf=0.0,\n",
              "                      n_estimators=10000, n_jobs=None, oob_score=False,\n",
              "                      random_state=None, verbose=0, warm_start=False)"
            ]
          },
          "metadata": {
            "tags": []
          },
          "execution_count": 154
        }
      ]
    },
    {
      "cell_type": "code",
      "metadata": {
        "id": "-e8D8ANQDS2r",
        "colab_type": "code",
        "colab": {}
      },
      "source": [
        "es_test.rename(columns = {'Stock Open price':'Actual Open'}, inplace=True)"
      ],
      "execution_count": 0,
      "outputs": []
    },
    {
      "cell_type": "code",
      "metadata": {
        "id": "RIXlk_MM1_Fg",
        "colab_type": "code",
        "outputId": "a667412e-6a2e-4a94-97b7-f33301634e55",
        "colab": {
          "base_uri": "https://localhost:8080/"
        }
      },
      "source": [
        "es_rf_imp.score(X_important_test,es_test['Actual Open'])"
      ],
      "execution_count": 0,
      "outputs": [
        {
          "output_type": "execute_result",
          "data": {
            "text/plain": [
              "0.8897333479494516"
            ]
          },
          "metadata": {
            "tags": []
          },
          "execution_count": 156
        }
      ]
    },
    {
      "cell_type": "code",
      "metadata": {
        "id": "Orzy73aA3GJz",
        "colab_type": "code",
        "colab": {}
      },
      "source": [
        "es_test['Predicted Open_rf_imp'] = es_rf_imp.predict(X_important_test)"
      ],
      "execution_count": 0,
      "outputs": []
    },
    {
      "cell_type": "code",
      "metadata": {
        "id": "XUdTL4AqDS2m",
        "colab_type": "code",
        "outputId": "4bcd627e-2054-47a8-c493-f39b8c11f8ae",
        "colab": {
          "base_uri": "https://localhost:8080/"
        }
      },
      "source": [
        "es_test.head()"
      ],
      "execution_count": 0,
      "outputs": [
        {
          "output_type": "execute_result",
          "data": {
            "text/html": [
              "<div>\n",
              "<style scoped>\n",
              "    .dataframe tbody tr th:only-of-type {\n",
              "        vertical-align: middle;\n",
              "    }\n",
              "\n",
              "    .dataframe tbody tr th {\n",
              "        vertical-align: top;\n",
              "    }\n",
              "\n",
              "    .dataframe thead th {\n",
              "        text-align: right;\n",
              "    }\n",
              "</style>\n",
              "<table border=\"1\" class=\"dataframe\">\n",
              "  <thead>\n",
              "    <tr style=\"text-align: right;\">\n",
              "      <th></th>\n",
              "      <th>Date</th>\n",
              "      <th>Adj Close</th>\n",
              "      <th>Volume</th>\n",
              "      <th>NIFTY Open</th>\n",
              "      <th>Actual Open</th>\n",
              "      <th>Predicted Open_rf_imp</th>\n",
              "    </tr>\n",
              "  </thead>\n",
              "  <tbody>\n",
              "    <tr>\n",
              "      <th>0</th>\n",
              "      <td>4/1/2020</td>\n",
              "      <td>598.799988</td>\n",
              "      <td>4835985</td>\n",
              "      <td>8584.099609</td>\n",
              "      <td>594.000000</td>\n",
              "      <td>605.961917</td>\n",
              "    </tr>\n",
              "    <tr>\n",
              "      <th>1</th>\n",
              "      <td>4/3/2020</td>\n",
              "      <td>592.400024</td>\n",
              "      <td>3825217</td>\n",
              "      <td>8356.549805</td>\n",
              "      <td>623.000000</td>\n",
              "      <td>602.207720</td>\n",
              "    </tr>\n",
              "    <tr>\n",
              "      <th>2</th>\n",
              "      <td>4/7/2020</td>\n",
              "      <td>663.750000</td>\n",
              "      <td>4083879</td>\n",
              "      <td>8446.299805</td>\n",
              "      <td>653.700012</td>\n",
              "      <td>655.805673</td>\n",
              "    </tr>\n",
              "    <tr>\n",
              "      <th>3</th>\n",
              "      <td>4/8/2020</td>\n",
              "      <td>642.349976</td>\n",
              "      <td>4354813</td>\n",
              "      <td>8688.900391</td>\n",
              "      <td>661.000000</td>\n",
              "      <td>646.312056</td>\n",
              "    </tr>\n",
              "    <tr>\n",
              "      <th>4</th>\n",
              "      <td>4/9/2020</td>\n",
              "      <td>684.299988</td>\n",
              "      <td>3501448</td>\n",
              "      <td>8973.049805</td>\n",
              "      <td>684.299988</td>\n",
              "      <td>673.433438</td>\n",
              "    </tr>\n",
              "  </tbody>\n",
              "</table>\n",
              "</div>"
            ],
            "text/plain": [
              "       Date   Adj Close  ...  Actual Open  Predicted Open_rf_imp\n",
              "0  4/1/2020  598.799988  ...   594.000000             605.961917\n",
              "1  4/3/2020  592.400024  ...   623.000000             602.207720\n",
              "2  4/7/2020  663.750000  ...   653.700012             655.805673\n",
              "3  4/8/2020  642.349976  ...   661.000000             646.312056\n",
              "4  4/9/2020  684.299988  ...   684.299988             673.433438\n",
              "\n",
              "[5 rows x 6 columns]"
            ]
          },
          "metadata": {
            "tags": []
          },
          "execution_count": 158
        }
      ]
    },
    {
      "cell_type": "code",
      "metadata": {
        "id": "ChJzT1AK3fcj",
        "colab_type": "code",
        "outputId": "91bd9b36-1b46-43de-eacf-8d9cd3a3c81a",
        "colab": {
          "base_uri": "https://localhost:8080/"
        }
      },
      "source": [
        "# Mean squared error regression loss\n",
        "from sklearn.metrics import mean_squared_error\n",
        "mean_squared_error(es_test['Actual Open'], es_test['Predicted Open_rf_imp'],squared=True)"
      ],
      "execution_count": 0,
      "outputs": [
        {
          "output_type": "execute_result",
          "data": {
            "text/plain": [
              "216.32203272523978"
            ]
          },
          "metadata": {
            "tags": []
          },
          "execution_count": 159
        }
      ]
    },
    {
      "cell_type": "code",
      "metadata": {
        "id": "rhZddhs-5fgm",
        "colab_type": "code",
        "outputId": "09d63076-1f58-498f-f3dd-807bfa0bb693",
        "colab": {
          "base_uri": "https://localhost:8080/",
          "height": 54
        }
      },
      "source": [
        "from sklearn.ensemble import AdaBoostRegressor\n",
        "# Create a new random forest classifier for the most important features\n",
        "es_ada_imp = AdaBoostRegressor(n_estimators=10000,learning_rate=0.01,loss='linear')\n",
        "\n",
        "# Train the new classifier on the new dataset containing the most important features\n",
        "es_ada_imp.fit(X_important_train, Y)"
      ],
      "execution_count": 0,
      "outputs": [
        {
          "output_type": "execute_result",
          "data": {
            "text/plain": [
              "AdaBoostRegressor(base_estimator=None, learning_rate=0.01, loss='linear',\n",
              "                  n_estimators=10000, random_state=None)"
            ]
          },
          "metadata": {
            "tags": []
          },
          "execution_count": 160
        }
      ]
    },
    {
      "cell_type": "code",
      "metadata": {
        "id": "Q6NwPUeQ5faO",
        "colab_type": "code",
        "outputId": "5317b9c5-114e-4898-b292-6e243c4bf9f2",
        "colab": {
          "base_uri": "https://localhost:8080/"
        }
      },
      "source": [
        "es_ada_imp.score(X_important_test,es_test['Actual Open'])"
      ],
      "execution_count": 0,
      "outputs": [
        {
          "output_type": "execute_result",
          "data": {
            "text/plain": [
              "0.9125920056190813"
            ]
          },
          "metadata": {
            "tags": []
          },
          "execution_count": 161
        }
      ]
    },
    {
      "cell_type": "code",
      "metadata": {
        "id": "j_-eAOXL8JJX",
        "colab_type": "code",
        "colab": {}
      },
      "source": [
        "es_test['Predicted Open_ada_imp'] = es_ada_imp.predict(X_important_test)"
      ],
      "execution_count": 0,
      "outputs": []
    },
    {
      "cell_type": "code",
      "metadata": {
        "id": "qhFoaH1p8Odq",
        "colab_type": "code",
        "outputId": "7670a8f4-6a21-4751-9def-eb3d9b9e4ffd",
        "colab": {
          "base_uri": "https://localhost:8080/"
        }
      },
      "source": [
        "mean_squared_error(es_test['Actual Open'], es_test['Predicted Open_ada_imp'],squared=True)"
      ],
      "execution_count": 0,
      "outputs": [
        {
          "output_type": "execute_result",
          "data": {
            "text/plain": [
              "171.47772848176032"
            ]
          },
          "metadata": {
            "tags": []
          },
          "execution_count": 163
        }
      ]
    },
    {
      "cell_type": "markdown",
      "metadata": {
        "id": "8KdwAaGQDS3i",
        "colab_type": "text"
      },
      "source": [
        "## NEXT STEPS"
      ]
    },
    {
      "cell_type": "markdown",
      "metadata": {
        "id": "5I08RCbGDS3j",
        "colab_type": "text"
      },
      "source": [
        "### Try different algorithms, optimization methods to reduce the mean squared error to a value in the 100+ range"
      ]
    },
    {
      "cell_type": "markdown",
      "metadata": {
        "id": "w40cglfjDS3k",
        "colab_type": "text"
      },
      "source": [
        "## Add following features\n",
        "### Trading day's open price depends on the following:\n",
        "### Previous day's US closing index (Nasdaq)\n",
        "### Asian's markets index (Nikkie 225, Shangai Composite, Hang Seng)\n",
        "### Singapore NIFTY 50 index at the time Trading day start"
      ]
    },
    {
      "cell_type": "markdown",
      "metadata": {
        "id": "RSfbuFsxDS3l",
        "colab_type": "text"
      },
      "source": [
        "## Deploy the model on trading platform to pick the opening price"
      ]
    },
    {
      "cell_type": "code",
      "metadata": {
        "id": "ZcYCZqUqDS3m",
        "colab_type": "code",
        "colab": {}
      },
      "source": [
        ""
      ],
      "execution_count": 0,
      "outputs": []
    }
  ]
}