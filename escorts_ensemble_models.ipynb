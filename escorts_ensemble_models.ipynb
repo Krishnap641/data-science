{
  "nbformat": 4,
  "nbformat_minor": 0,
  "metadata": {
    "kernelspec": {
      "display_name": "Python 3",
      "language": "python",
      "name": "python3"
    },
    "language_info": {
      "codemirror_mode": {
        "name": "ipython",
        "version": 3
      },
      "file_extension": ".py",
      "mimetype": "text/x-python",
      "name": "python",
      "nbconvert_exporter": "python",
      "pygments_lexer": "ipython3",
      "version": "3.7.6"
    },
    "colab": {
      "name": "escorts_ensemble_models.ipynb",
      "provenance": [],
      "collapsed_sections": []
    }
  },
  "cells": [
    {
      "cell_type": "markdown",
      "metadata": {
        "id": "duyGGJ13DS0w",
        "colab_type": "text"
      },
      "source": [
        "# STOCK TRADING DAYS OPEN PRICE\n",
        "### AUTHOR : XXX\n",
        "### DATE WRITTEN: dd-mm-yyyy\n",
        "### "
      ]
    },
    {
      "cell_type": "code",
      "metadata": {
        "id": "nvnVgQulDS0y",
        "colab_type": "code",
        "colab": {}
      },
      "source": [
        "import pandas as pd\n",
        "import numpy as np"
      ],
      "execution_count": 0,
      "outputs": []
    },
    {
      "cell_type": "code",
      "metadata": {
        "id": "6191fZCMHv-X",
        "colab_type": "code",
        "colab": {}
      },
      "source": [
        "from sklearn.ensemble import RandomForestClassifier, RandomForestRegressor\n",
        "from sklearn.feature_selection import SelectFromModel"
      ],
      "execution_count": 0,
      "outputs": []
    },
    {
      "cell_type": "code",
      "metadata": {
        "id": "-g-Rqc51DS08",
        "colab_type": "code",
        "colab": {}
      },
      "source": [
        "import warnings\n",
        "warnings.filterwarnings(\"ignore\")"
      ],
      "execution_count": 0,
      "outputs": []
    },
    {
      "cell_type": "code",
      "metadata": {
        "id": "QYwEC9ATEglq",
        "colab_type": "code",
        "outputId": "7a357025-815a-4fee-810d-70464e5da166",
        "colab": {
          "base_uri": "https://localhost:8080/",
          "height": 121
        }
      },
      "source": [
        "from google.colab import drive\n",
        "drive.mount('/content/drive')"
      ],
      "execution_count": 0,
      "outputs": [
        {
          "output_type": "stream",
          "text": [
            "Go to this URL in a browser: https://accounts.google.com/o/oauth2/auth?client_id=947318989803-6bn6qk8qdgf4n4g3pfee6491hc0brc4i.apps.googleusercontent.com&redirect_uri=urn%3aietf%3awg%3aoauth%3a2.0%3aoob&response_type=code&scope=email%20https%3a%2f%2fwww.googleapis.com%2fauth%2fdocs.test%20https%3a%2f%2fwww.googleapis.com%2fauth%2fdrive%20https%3a%2f%2fwww.googleapis.com%2fauth%2fdrive.photos.readonly%20https%3a%2f%2fwww.googleapis.com%2fauth%2fpeopleapi.readonly\n",
            "\n",
            "Enter your authorization code:\n",
            "··········\n",
            "Mounted at /content/drive\n"
          ],
          "name": "stdout"
        }
      ]
    },
    {
      "cell_type": "code",
      "metadata": {
        "id": "__HdwC_IDS1C",
        "colab_type": "code",
        "colab": {}
      },
      "source": [
        "es_train = pd.read_csv('/content/drive/My Drive/Data Science Classroom/dataset/ESCORTS_TRAIN.csv')\n",
        "es_test = pd.read_csv('/content/drive/My Drive/Data Science Classroom/dataset/ESCORTS_TEST.csv')"
      ],
      "execution_count": 0,
      "outputs": []
    },
    {
      "cell_type": "code",
      "metadata": {
        "id": "WsB0IsoGDS1I",
        "colab_type": "code",
        "outputId": "73cbadf6-4bfa-41ea-decb-8cafc9508f38",
        "colab": {
          "base_uri": "https://localhost:8080/",
          "height": 195
        }
      },
      "source": [
        "es_train.head()"
      ],
      "execution_count": 0,
      "outputs": [
        {
          "output_type": "execute_result",
          "data": {
            "text/html": [
              "<div>\n",
              "<style scoped>\n",
              "    .dataframe tbody tr th:only-of-type {\n",
              "        vertical-align: middle;\n",
              "    }\n",
              "\n",
              "    .dataframe tbody tr th {\n",
              "        vertical-align: top;\n",
              "    }\n",
              "\n",
              "    .dataframe thead th {\n",
              "        text-align: right;\n",
              "    }\n",
              "</style>\n",
              "<table border=\"1\" class=\"dataframe\">\n",
              "  <thead>\n",
              "    <tr style=\"text-align: right;\">\n",
              "      <th></th>\n",
              "      <th>Date</th>\n",
              "      <th>Adj Close</th>\n",
              "      <th>Volume</th>\n",
              "      <th>NIFTY Open</th>\n",
              "      <th>Stock Open price</th>\n",
              "    </tr>\n",
              "  </thead>\n",
              "  <tbody>\n",
              "    <tr>\n",
              "      <th>0</th>\n",
              "      <td>4/1/2015</td>\n",
              "      <td>124.459732</td>\n",
              "      <td>650074.0</td>\n",
              "      <td>8483.700195</td>\n",
              "      <td>127.199997</td>\n",
              "    </tr>\n",
              "    <tr>\n",
              "      <th>1</th>\n",
              "      <td>4/6/2015</td>\n",
              "      <td>123.332298</td>\n",
              "      <td>352110.0</td>\n",
              "      <td>8615.799805</td>\n",
              "      <td>126.800003</td>\n",
              "    </tr>\n",
              "    <tr>\n",
              "      <th>2</th>\n",
              "      <td>4/7/2015</td>\n",
              "      <td>132.891037</td>\n",
              "      <td>2074275.0</td>\n",
              "      <td>8684.450195</td>\n",
              "      <td>136.800003</td>\n",
              "    </tr>\n",
              "    <tr>\n",
              "      <th>3</th>\n",
              "      <td>4/8/2015</td>\n",
              "      <td>136.224350</td>\n",
              "      <td>1811574.0</td>\n",
              "      <td>8698.950195</td>\n",
              "      <td>139.600006</td>\n",
              "    </tr>\n",
              "    <tr>\n",
              "      <th>4</th>\n",
              "      <td>4/9/2015</td>\n",
              "      <td>133.136139</td>\n",
              "      <td>596295.0</td>\n",
              "      <td>8756.200195</td>\n",
              "      <td>136.350006</td>\n",
              "    </tr>\n",
              "  </tbody>\n",
              "</table>\n",
              "</div>"
            ],
            "text/plain": [
              "       Date   Adj Close     Volume   NIFTY Open  Stock Open price\n",
              "0  4/1/2015  124.459732   650074.0  8483.700195        127.199997\n",
              "1  4/6/2015  123.332298   352110.0  8615.799805        126.800003\n",
              "2  4/7/2015  132.891037  2074275.0  8684.450195        136.800003\n",
              "3  4/8/2015  136.224350  1811574.0  8698.950195        139.600006\n",
              "4  4/9/2015  133.136139   596295.0  8756.200195        136.350006"
            ]
          },
          "metadata": {
            "tags": []
          },
          "execution_count": 6
        }
      ]
    },
    {
      "cell_type": "code",
      "metadata": {
        "id": "KZ8plMrxDS1Q",
        "colab_type": "code",
        "outputId": "3be8050e-b85b-4514-ab91-39d804f23314",
        "colab": {
          "base_uri": "https://localhost:8080/",
          "height": 118
        }
      },
      "source": [
        "es_train.isnull().sum()"
      ],
      "execution_count": 0,
      "outputs": [
        {
          "output_type": "execute_result",
          "data": {
            "text/plain": [
              "Date                0\n",
              "Adj Close           1\n",
              "Volume              1\n",
              "NIFTY Open          6\n",
              "Stock Open price    2\n",
              "dtype: int64"
            ]
          },
          "metadata": {
            "tags": []
          },
          "execution_count": 7
        }
      ]
    },
    {
      "cell_type": "code",
      "metadata": {
        "id": "8AZmA8OfDS1X",
        "colab_type": "code",
        "outputId": "582d57b5-019f-45a1-b60e-2aed9100b9b5",
        "colab": {
          "base_uri": "https://localhost:8080/",
          "height": 77
        }
      },
      "source": [
        "# display the record\n",
        "es_train[es_train['Adj Close'].isnull()]"
      ],
      "execution_count": 0,
      "outputs": [
        {
          "output_type": "execute_result",
          "data": {
            "text/html": [
              "<div>\n",
              "<style scoped>\n",
              "    .dataframe tbody tr th:only-of-type {\n",
              "        vertical-align: middle;\n",
              "    }\n",
              "\n",
              "    .dataframe tbody tr th {\n",
              "        vertical-align: top;\n",
              "    }\n",
              "\n",
              "    .dataframe thead th {\n",
              "        text-align: right;\n",
              "    }\n",
              "</style>\n",
              "<table border=\"1\" class=\"dataframe\">\n",
              "  <thead>\n",
              "    <tr style=\"text-align: right;\">\n",
              "      <th></th>\n",
              "      <th>Date</th>\n",
              "      <th>Adj Close</th>\n",
              "      <th>Volume</th>\n",
              "      <th>NIFTY Open</th>\n",
              "      <th>Stock Open price</th>\n",
              "    </tr>\n",
              "  </thead>\n",
              "  <tbody>\n",
              "    <tr>\n",
              "      <th>1123</th>\n",
              "      <td>10/27/2019</td>\n",
              "      <td>NaN</td>\n",
              "      <td>NaN</td>\n",
              "      <td>NaN</td>\n",
              "      <td>644.0</td>\n",
              "    </tr>\n",
              "  </tbody>\n",
              "</table>\n",
              "</div>"
            ],
            "text/plain": [
              "            Date  Adj Close  Volume  NIFTY Open  Stock Open price\n",
              "1123  10/27/2019        NaN     NaN         NaN             644.0"
            ]
          },
          "metadata": {
            "tags": []
          },
          "execution_count": 8
        }
      ]
    },
    {
      "cell_type": "code",
      "metadata": {
        "id": "OYiQeITzDS1d",
        "colab_type": "code",
        "outputId": "26dea61a-d699-455e-dd50-ae78b6a4d4bd",
        "colab": {
          "base_uri": "https://localhost:8080/",
          "height": 77
        }
      },
      "source": [
        "es_train[es_train['Volume'].isnull()]"
      ],
      "execution_count": 0,
      "outputs": [
        {
          "output_type": "execute_result",
          "data": {
            "text/html": [
              "<div>\n",
              "<style scoped>\n",
              "    .dataframe tbody tr th:only-of-type {\n",
              "        vertical-align: middle;\n",
              "    }\n",
              "\n",
              "    .dataframe tbody tr th {\n",
              "        vertical-align: top;\n",
              "    }\n",
              "\n",
              "    .dataframe thead th {\n",
              "        text-align: right;\n",
              "    }\n",
              "</style>\n",
              "<table border=\"1\" class=\"dataframe\">\n",
              "  <thead>\n",
              "    <tr style=\"text-align: right;\">\n",
              "      <th></th>\n",
              "      <th>Date</th>\n",
              "      <th>Adj Close</th>\n",
              "      <th>Volume</th>\n",
              "      <th>NIFTY Open</th>\n",
              "      <th>Stock Open price</th>\n",
              "    </tr>\n",
              "  </thead>\n",
              "  <tbody>\n",
              "    <tr>\n",
              "      <th>1123</th>\n",
              "      <td>10/27/2019</td>\n",
              "      <td>NaN</td>\n",
              "      <td>NaN</td>\n",
              "      <td>NaN</td>\n",
              "      <td>644.0</td>\n",
              "    </tr>\n",
              "  </tbody>\n",
              "</table>\n",
              "</div>"
            ],
            "text/plain": [
              "            Date  Adj Close  Volume  NIFTY Open  Stock Open price\n",
              "1123  10/27/2019        NaN     NaN         NaN             644.0"
            ]
          },
          "metadata": {
            "tags": []
          },
          "execution_count": 9
        }
      ]
    },
    {
      "cell_type": "code",
      "metadata": {
        "id": "9mQ9eIamDS1k",
        "colab_type": "code",
        "outputId": "7710f716-549a-447c-9ca4-6b33aecfd076",
        "colab": {
          "base_uri": "https://localhost:8080/",
          "height": 225
        }
      },
      "source": [
        "es_train[es_train['NIFTY Open'].isnull()]"
      ],
      "execution_count": 0,
      "outputs": [
        {
          "output_type": "execute_result",
          "data": {
            "text/html": [
              "<div>\n",
              "<style scoped>\n",
              "    .dataframe tbody tr th:only-of-type {\n",
              "        vertical-align: middle;\n",
              "    }\n",
              "\n",
              "    .dataframe tbody tr th {\n",
              "        vertical-align: top;\n",
              "    }\n",
              "\n",
              "    .dataframe thead th {\n",
              "        text-align: right;\n",
              "    }\n",
              "</style>\n",
              "<table border=\"1\" class=\"dataframe\">\n",
              "  <thead>\n",
              "    <tr style=\"text-align: right;\">\n",
              "      <th></th>\n",
              "      <th>Date</th>\n",
              "      <th>Adj Close</th>\n",
              "      <th>Volume</th>\n",
              "      <th>NIFTY Open</th>\n",
              "      <th>Stock Open price</th>\n",
              "    </tr>\n",
              "  </thead>\n",
              "  <tbody>\n",
              "    <tr>\n",
              "      <th>7</th>\n",
              "      <td>4/15/2015</td>\n",
              "      <td>132.449860</td>\n",
              "      <td>525209.0</td>\n",
              "      <td>NaN</td>\n",
              "      <td>135.449997</td>\n",
              "    </tr>\n",
              "    <tr>\n",
              "      <th>185</th>\n",
              "      <td>1/1/2016</td>\n",
              "      <td>168.042999</td>\n",
              "      <td>335512.0</td>\n",
              "      <td>NaN</td>\n",
              "      <td>168.000000</td>\n",
              "    </tr>\n",
              "    <tr>\n",
              "      <th>337</th>\n",
              "      <td>8/12/2016</td>\n",
              "      <td>295.803101</td>\n",
              "      <td>6365901.0</td>\n",
              "      <td>NaN</td>\n",
              "      <td>300.799988</td>\n",
              "    </tr>\n",
              "    <tr>\n",
              "      <th>679</th>\n",
              "      <td>1/1/2018</td>\n",
              "      <td>769.035706</td>\n",
              "      <td>1246643.0</td>\n",
              "      <td>NaN</td>\n",
              "      <td>780.150024</td>\n",
              "    </tr>\n",
              "    <tr>\n",
              "      <th>925</th>\n",
              "      <td>1/1/2019</td>\n",
              "      <td>716.453003</td>\n",
              "      <td>3301665.0</td>\n",
              "      <td>NaN</td>\n",
              "      <td>721.500000</td>\n",
              "    </tr>\n",
              "    <tr>\n",
              "      <th>1123</th>\n",
              "      <td>10/27/2019</td>\n",
              "      <td>NaN</td>\n",
              "      <td>NaN</td>\n",
              "      <td>NaN</td>\n",
              "      <td>644.000000</td>\n",
              "    </tr>\n",
              "  </tbody>\n",
              "</table>\n",
              "</div>"
            ],
            "text/plain": [
              "            Date   Adj Close     Volume  NIFTY Open  Stock Open price\n",
              "7      4/15/2015  132.449860   525209.0         NaN        135.449997\n",
              "185     1/1/2016  168.042999   335512.0         NaN        168.000000\n",
              "337    8/12/2016  295.803101  6365901.0         NaN        300.799988\n",
              "679     1/1/2018  769.035706  1246643.0         NaN        780.150024\n",
              "925     1/1/2019  716.453003  3301665.0         NaN        721.500000\n",
              "1123  10/27/2019         NaN        NaN         NaN        644.000000"
            ]
          },
          "metadata": {
            "tags": []
          },
          "execution_count": 10
        }
      ]
    },
    {
      "cell_type": "code",
      "metadata": {
        "id": "ckzbbimyDS1q",
        "colab_type": "code",
        "outputId": "71e09ff9-2e16-466b-8776-6ceeb285ad5b",
        "colab": {
          "base_uri": "https://localhost:8080/",
          "height": 106
        }
      },
      "source": [
        "es_train[es_train['Stock Open price'].isnull()]"
      ],
      "execution_count": 0,
      "outputs": [
        {
          "output_type": "execute_result",
          "data": {
            "text/html": [
              "<div>\n",
              "<style scoped>\n",
              "    .dataframe tbody tr th:only-of-type {\n",
              "        vertical-align: middle;\n",
              "    }\n",
              "\n",
              "    .dataframe tbody tr th {\n",
              "        vertical-align: top;\n",
              "    }\n",
              "\n",
              "    .dataframe thead th {\n",
              "        text-align: right;\n",
              "    }\n",
              "</style>\n",
              "<table border=\"1\" class=\"dataframe\">\n",
              "  <thead>\n",
              "    <tr style=\"text-align: right;\">\n",
              "      <th></th>\n",
              "      <th>Date</th>\n",
              "      <th>Adj Close</th>\n",
              "      <th>Volume</th>\n",
              "      <th>NIFTY Open</th>\n",
              "      <th>Stock Open price</th>\n",
              "    </tr>\n",
              "  </thead>\n",
              "  <tbody>\n",
              "    <tr>\n",
              "      <th>1122</th>\n",
              "      <td>10/25/2019</td>\n",
              "      <td>640.000000</td>\n",
              "      <td>1995407.0</td>\n",
              "      <td>11646.150390</td>\n",
              "      <td>NaN</td>\n",
              "    </tr>\n",
              "    <tr>\n",
              "      <th>1229</th>\n",
              "      <td>3/30/2020</td>\n",
              "      <td>601.599976</td>\n",
              "      <td>2084182.0</td>\n",
              "      <td>8385.950195</td>\n",
              "      <td>NaN</td>\n",
              "    </tr>\n",
              "  </tbody>\n",
              "</table>\n",
              "</div>"
            ],
            "text/plain": [
              "            Date   Adj Close     Volume    NIFTY Open  Stock Open price\n",
              "1122  10/25/2019  640.000000  1995407.0  11646.150390               NaN\n",
              "1229   3/30/2020  601.599976  2084182.0   8385.950195               NaN"
            ]
          },
          "metadata": {
            "tags": []
          },
          "execution_count": 11
        }
      ]
    },
    {
      "cell_type": "code",
      "metadata": {
        "id": "GjJfhdvlDS1v",
        "colab_type": "code",
        "colab": {}
      },
      "source": [
        "# stratagies to fill null values\n",
        "es_train['Stock Open price'][es_train['Date'] == '10/25/2019'] = es_train['Stock Open price'][es_train['Date'] == '10/27/2019']\n",
        "es_train['NIFTY Open'].fillna(es_train['NIFTY Open'].mean(),inplace=True)\n",
        "es_train.dropna(axis=0,inplace=True)"
      ],
      "execution_count": 0,
      "outputs": []
    },
    {
      "cell_type": "code",
      "metadata": {
        "id": "H-mpoE2dDS11",
        "colab_type": "code",
        "outputId": "505aca03-a0ab-40b1-af87-f70554fecbd2",
        "colab": {
          "base_uri": "https://localhost:8080/",
          "height": 118
        }
      },
      "source": [
        "es_train.isnull().sum()"
      ],
      "execution_count": 0,
      "outputs": [
        {
          "output_type": "execute_result",
          "data": {
            "text/plain": [
              "Date                0\n",
              "Adj Close           0\n",
              "Volume              0\n",
              "NIFTY Open          0\n",
              "Stock Open price    0\n",
              "dtype: int64"
            ]
          },
          "metadata": {
            "tags": []
          },
          "execution_count": 13
        }
      ]
    },
    {
      "cell_type": "code",
      "metadata": {
        "id": "X9cuaA3gDS2Q",
        "colab_type": "code",
        "colab": {}
      },
      "source": [
        "X = es_train[es_train.columns[1:-1]]\n",
        "Y = es_train[es_train.columns[-1]]"
      ],
      "execution_count": 0,
      "outputs": []
    },
    {
      "cell_type": "code",
      "metadata": {
        "id": "12hQq-w3DS26",
        "colab_type": "code",
        "colab": {}
      },
      "source": [
        "es_test.dropna(axis=0,inplace=True)"
      ],
      "execution_count": 0,
      "outputs": []
    },
    {
      "cell_type": "code",
      "metadata": {
        "id": "qarM2ZMUDS3E",
        "colab_type": "code",
        "colab": {}
      },
      "source": [
        "X_test = es_test[es_test.columns[1:-1]]"
      ],
      "execution_count": 0,
      "outputs": []
    },
    {
      "cell_type": "code",
      "metadata": {
        "id": "xzOGfA8-saMf",
        "colab_type": "code",
        "colab": {}
      },
      "source": [
        "# Create a list of feature names\n",
        "feat_labels = list(es_train.axes[1])[1:-1]"
      ],
      "execution_count": 0,
      "outputs": []
    },
    {
      "cell_type": "code",
      "metadata": {
        "id": "YjnGzA4hDS2W",
        "colab_type": "code",
        "colab": {}
      },
      "source": [
        "# Create a random forest classifier\n",
        "es_rf = RandomForestRegressor(n_estimators=10000, random_state=40, n_jobs=-1)"
      ],
      "execution_count": 0,
      "outputs": []
    },
    {
      "cell_type": "code",
      "metadata": {
        "id": "iUEFdXCqDS2b",
        "colab_type": "code",
        "outputId": "f98cc59f-fccc-41ef-c1af-97df4c4c90d1",
        "colab": {
          "base_uri": "https://localhost:8080/",
          "height": 134
        }
      },
      "source": [
        "# Train the classifier\n",
        "es_rf.fit(X, Y)"
      ],
      "execution_count": 0,
      "outputs": [
        {
          "output_type": "execute_result",
          "data": {
            "text/plain": [
              "RandomForestRegressor(bootstrap=True, ccp_alpha=0.0, criterion='mse',\n",
              "                      max_depth=None, max_features='auto', max_leaf_nodes=None,\n",
              "                      max_samples=None, min_impurity_decrease=0.0,\n",
              "                      min_impurity_split=None, min_samples_leaf=1,\n",
              "                      min_samples_split=2, min_weight_fraction_leaf=0.0,\n",
              "                      n_estimators=10000, n_jobs=-1, oob_score=False,\n",
              "                      random_state=40, verbose=0, warm_start=False)"
            ]
          },
          "metadata": {
            "tags": []
          },
          "execution_count": 19
        }
      ]
    },
    {
      "cell_type": "code",
      "metadata": {
        "id": "y2cMBBzIDS2h",
        "colab_type": "code",
        "outputId": "c7bb804a-c5fc-4f0f-b2c4-dd54bc2b8329",
        "colab": {
          "base_uri": "https://localhost:8080/",
          "height": 67
        }
      },
      "source": [
        "# Print the name and gini importance of each feature\n",
        "for feature in zip(feat_labels, es_rf.feature_importances_):\n",
        "    print(feature)"
      ],
      "execution_count": 0,
      "outputs": [
        {
          "output_type": "stream",
          "text": [
            "('Adj Close', 0.9995597488826142)\n",
            "('Volume', 9.615421063026653e-05)\n",
            "('NIFTY Open', 0.00034409690675546586)\n"
          ],
          "name": "stdout"
        }
      ]
    },
    {
      "cell_type": "code",
      "metadata": {
        "id": "voYzO2Pkuzt0",
        "colab_type": "code",
        "outputId": "9f471342-0766-40b8-d572-b52236381c86",
        "colab": {
          "base_uri": "https://localhost:8080/",
          "height": 286
        }
      },
      "source": [
        "# Create a selector object that will use the random forest classifier to identify\n",
        "# features that have an importance of more than 0.0003\n",
        "sfm = SelectFromModel(es_rf, threshold=0.0003)\n",
        "\n",
        "# Train the selector\n",
        "sfm.fit(X, Y)"
      ],
      "execution_count": 0,
      "outputs": [
        {
          "output_type": "execute_result",
          "data": {
            "text/plain": [
              "SelectFromModel(estimator=RandomForestRegressor(bootstrap=True, ccp_alpha=0.0,\n",
              "                                                criterion='mse', max_depth=None,\n",
              "                                                max_features='auto',\n",
              "                                                max_leaf_nodes=None,\n",
              "                                                max_samples=None,\n",
              "                                                min_impurity_decrease=0.0,\n",
              "                                                min_impurity_split=None,\n",
              "                                                min_samples_leaf=1,\n",
              "                                                min_samples_split=2,\n",
              "                                                min_weight_fraction_leaf=0.0,\n",
              "                                                n_estimators=10000, n_jobs=-1,\n",
              "                                                oob_score=False,\n",
              "                                                random_state=40, verbose=0,\n",
              "                                                warm_start=False),\n",
              "                max_features=None, norm_order=1, prefit=False,\n",
              "                threshold=0.0003)"
            ]
          },
          "metadata": {
            "tags": []
          },
          "execution_count": 21
        }
      ]
    },
    {
      "cell_type": "code",
      "metadata": {
        "id": "NcRfP0Nkuz8v",
        "colab_type": "code",
        "outputId": "6e589c1f-9b22-41ca-d6aa-745e9dbbecef",
        "colab": {
          "base_uri": "https://localhost:8080/",
          "height": 50
        }
      },
      "source": [
        "# Print the names of the most important features\n",
        "for feature_list_index in sfm.get_support(indices=True):\n",
        "    print(feat_labels[feature_list_index])"
      ],
      "execution_count": 0,
      "outputs": [
        {
          "output_type": "stream",
          "text": [
            "Adj Close\n",
            "NIFTY Open\n"
          ],
          "name": "stdout"
        }
      ]
    },
    {
      "cell_type": "code",
      "metadata": {
        "id": "-hObPU1e1Aav",
        "colab_type": "code",
        "colab": {}
      },
      "source": [
        "# Transform the data to create a new dataset containing only the most important features\n",
        "# Note: We have to apply the transform to both the training X and test X data.\n",
        "X_important_train = sfm.transform(X)\n",
        "X_important_test = sfm.transform(X_test)"
      ],
      "execution_count": 0,
      "outputs": []
    },
    {
      "cell_type": "code",
      "metadata": {
        "id": "2An1loV8u0Jx",
        "colab_type": "code",
        "outputId": "82c218e5-e0b1-47a5-86d5-e9a75be694f6",
        "colab": {
          "base_uri": "https://localhost:8080/",
          "height": 134
        }
      },
      "source": [
        "# Create a new random forest classifier for the most important features\n",
        "es_rf_imp = RandomForestRegressor(n_estimators=1000)\n",
        "\n",
        "# Train the new classifier on the new dataset containing the most important features\n",
        "es_rf_imp.fit(X_important_train, Y)"
      ],
      "execution_count": 0,
      "outputs": [
        {
          "output_type": "execute_result",
          "data": {
            "text/plain": [
              "RandomForestRegressor(bootstrap=True, ccp_alpha=0.0, criterion='mse',\n",
              "                      max_depth=None, max_features='auto', max_leaf_nodes=None,\n",
              "                      max_samples=None, min_impurity_decrease=0.0,\n",
              "                      min_impurity_split=None, min_samples_leaf=1,\n",
              "                      min_samples_split=2, min_weight_fraction_leaf=0.0,\n",
              "                      n_estimators=1000, n_jobs=None, oob_score=False,\n",
              "                      random_state=None, verbose=0, warm_start=False)"
            ]
          },
          "metadata": {
            "tags": []
          },
          "execution_count": 24
        }
      ]
    },
    {
      "cell_type": "code",
      "metadata": {
        "id": "-e8D8ANQDS2r",
        "colab_type": "code",
        "colab": {}
      },
      "source": [
        "es_test.rename(columns = {'Stock Open price':'Actual Open'}, inplace=True)"
      ],
      "execution_count": 0,
      "outputs": []
    },
    {
      "cell_type": "code",
      "metadata": {
        "id": "RIXlk_MM1_Fg",
        "colab_type": "code",
        "outputId": "9a9e3bfe-5c44-48a6-d74f-451504177dfa",
        "colab": {
          "base_uri": "https://localhost:8080/",
          "height": 34
        }
      },
      "source": [
        "es_rf_imp.score(X_important_test,es_test['Actual Open'])"
      ],
      "execution_count": 0,
      "outputs": [
        {
          "output_type": "execute_result",
          "data": {
            "text/plain": [
              "0.8901485112425448"
            ]
          },
          "metadata": {
            "tags": []
          },
          "execution_count": 26
        }
      ]
    },
    {
      "cell_type": "code",
      "metadata": {
        "id": "Orzy73aA3GJz",
        "colab_type": "code",
        "colab": {}
      },
      "source": [
        "es_test['Predicted Open_rf_imp'] = es_rf_imp.predict(X_important_test)"
      ],
      "execution_count": 0,
      "outputs": []
    },
    {
      "cell_type": "code",
      "metadata": {
        "id": "ChJzT1AK3fcj",
        "colab_type": "code",
        "outputId": "0d869738-580b-4bd6-ed6a-9a53e4da8c04",
        "colab": {
          "base_uri": "https://localhost:8080/",
          "height": 34
        }
      },
      "source": [
        "# Mean squared error regression loss\n",
        "from sklearn.metrics import mean_squared_error\n",
        "mean_squared_error(es_test['Actual Open'], es_test['Predicted Open_rf_imp'],squared=True)"
      ],
      "execution_count": 0,
      "outputs": [
        {
          "output_type": "execute_result",
          "data": {
            "text/plain": [
              "215.50756193280435"
            ]
          },
          "metadata": {
            "tags": []
          },
          "execution_count": 29
        }
      ]
    },
    {
      "cell_type": "code",
      "metadata": {
        "id": "rhZddhs-5fgm",
        "colab_type": "code",
        "outputId": "fad72c82-d53f-4ab3-b5d8-32aa7b097b83",
        "colab": {
          "base_uri": "https://localhost:8080/",
          "height": 50
        }
      },
      "source": [
        "from sklearn.ensemble import AdaBoostRegressor\n",
        "# Create a new random forest classifier for the most important features\n",
        "es_ada_imp = AdaBoostRegressor(n_estimators=10000,learning_rate=0.01,loss='linear')\n",
        "\n",
        "# Train the new classifier on the new dataset containing the most important features\n",
        "es_ada_imp.fit(X_important_train, Y)"
      ],
      "execution_count": 0,
      "outputs": [
        {
          "output_type": "execute_result",
          "data": {
            "text/plain": [
              "AdaBoostRegressor(base_estimator=None, learning_rate=0.01, loss='linear',\n",
              "                  n_estimators=10000, random_state=None)"
            ]
          },
          "metadata": {
            "tags": []
          },
          "execution_count": 30
        }
      ]
    },
    {
      "cell_type": "code",
      "metadata": {
        "id": "Q6NwPUeQ5faO",
        "colab_type": "code",
        "outputId": "56ed5fad-6893-4083-fd08-a77b165f37d2",
        "colab": {
          "base_uri": "https://localhost:8080/",
          "height": 34
        }
      },
      "source": [
        "es_ada_imp.score(X_important_test,es_test['Actual Open'])"
      ],
      "execution_count": 0,
      "outputs": [
        {
          "output_type": "execute_result",
          "data": {
            "text/plain": [
              "0.9159662342150596"
            ]
          },
          "metadata": {
            "tags": []
          },
          "execution_count": 31
        }
      ]
    },
    {
      "cell_type": "code",
      "metadata": {
        "id": "j_-eAOXL8JJX",
        "colab_type": "code",
        "colab": {}
      },
      "source": [
        "es_test['Predicted Open_ada_imp'] = es_ada_imp.predict(X_important_test)"
      ],
      "execution_count": 0,
      "outputs": []
    },
    {
      "cell_type": "code",
      "metadata": {
        "id": "qhFoaH1p8Odq",
        "colab_type": "code",
        "outputId": "3c0be7be-ac6d-4b38-ff64-ae3ea63e7300",
        "colab": {
          "base_uri": "https://localhost:8080/",
          "height": 34
        }
      },
      "source": [
        "mean_squared_error(es_test['Actual Open'], es_test['Predicted Open_ada_imp'],squared=True)"
      ],
      "execution_count": 0,
      "outputs": [
        {
          "output_type": "execute_result",
          "data": {
            "text/plain": [
              "164.85813883078364"
            ]
          },
          "metadata": {
            "tags": []
          },
          "execution_count": 33
        }
      ]
    },
    {
      "cell_type": "code",
      "metadata": {
        "id": "CC3JbA_m_RIw",
        "colab_type": "code",
        "colab": {}
      },
      "source": [
        "# Parameter tuning\n",
        "from sklearn.model_selection import GridSearchCV\n",
        "params_grid = {'learning_rate':[0.1,0.2,0.3,0.4,0.5,0.6,0.7,0.8,0.9,1.0],\n",
        "                'n_estimators': [ _ for _ in range(100,10000,100)],\n",
        "                'loss' : ['linear', 'square', 'exponential']}"
      ],
      "execution_count": 0,
      "outputs": []
    },
    {
      "cell_type": "code",
      "metadata": {
        "id": "lXoVjyGw_REU",
        "colab_type": "code",
        "colab": {}
      },
      "source": [
        "model_opt = GridSearchCV(AdaBoostRegressor(), param_grid=params_grid)\n",
        "model_opt.fit(X_important_train, Y)\n",
        "model_opt.best_params_"
      ],
      "execution_count": 0,
      "outputs": []
    },
    {
      "cell_type": "code",
      "metadata": {
        "id": "sMYBHYBu_RMH",
        "colab_type": "code",
        "colab": {}
      },
      "source": [
        "# Pipeline\n",
        "import numpy as np\n",
        "from sklearn.pipeline import make_pipeline\n",
        "from sklearn.preprocessing import StandardScaler"
      ],
      "execution_count": 0,
      "outputs": []
    },
    {
      "cell_type": "code",
      "metadata": {
        "id": "sWpGD5jwl9Kx",
        "colab_type": "code",
        "outputId": "95b3d657-8f7f-4312-e847-9ce5b4fd9f5e",
        "colab": {
          "base_uri": "https://localhost:8080/",
          "height": 34
        }
      },
      "source": [
        "es_pipe_ada = make_pipeline(StandardScaler(),\n",
        "                    AdaBoostRegressor(**model_opt.best_params_))\n",
        "es_pipe_ada.fit(X_important_train, Y)\n",
        "es_pipe_ada.score(X_important_test,es_test['Actual Open'])"
      ],
      "execution_count": 0,
      "outputs": [
        {
          "output_type": "execute_result",
          "data": {
            "text/plain": [
              "0.8276579320968382"
            ]
          },
          "metadata": {
            "tags": []
          },
          "execution_count": 50
        }
      ]
    },
    {
      "cell_type": "code",
      "metadata": {
        "id": "t-2-veTOx-PT",
        "colab_type": "code",
        "colab": {}
      },
      "source": [
        "es_test['Predicted Open_pipe_ada'] = es_pipe_ada.predict(X_important_test)"
      ],
      "execution_count": 0,
      "outputs": []
    },
    {
      "cell_type": "code",
      "metadata": {
        "id": "sKPoPjrcx8iB",
        "colab_type": "code",
        "colab": {}
      },
      "source": [
        "mean_squared_error(es_test['Actual Open'], es_test['Predicted Open_pipe_ada'],squared=True)"
      ],
      "execution_count": 0,
      "outputs": []
    },
    {
      "cell_type": "code",
      "metadata": {
        "id": "b3QG9KUp_RU7",
        "colab_type": "code",
        "outputId": "d0e426cd-d054-413d-869f-e50b65ec8ab4",
        "colab": {
          "base_uri": "https://localhost:8080/",
          "height": 343
        }
      },
      "source": [
        "es_test.head(10)"
      ],
      "execution_count": 0,
      "outputs": [
        {
          "output_type": "execute_result",
          "data": {
            "text/html": [
              "<div>\n",
              "<style scoped>\n",
              "    .dataframe tbody tr th:only-of-type {\n",
              "        vertical-align: middle;\n",
              "    }\n",
              "\n",
              "    .dataframe tbody tr th {\n",
              "        vertical-align: top;\n",
              "    }\n",
              "\n",
              "    .dataframe thead th {\n",
              "        text-align: right;\n",
              "    }\n",
              "</style>\n",
              "<table border=\"1\" class=\"dataframe\">\n",
              "  <thead>\n",
              "    <tr style=\"text-align: right;\">\n",
              "      <th></th>\n",
              "      <th>Date</th>\n",
              "      <th>Adj Close</th>\n",
              "      <th>Volume</th>\n",
              "      <th>NIFTY Open</th>\n",
              "      <th>Actual Open</th>\n",
              "      <th>Predicted Open_rf_imp</th>\n",
              "      <th>Predicted Open_ada_imp</th>\n",
              "    </tr>\n",
              "  </thead>\n",
              "  <tbody>\n",
              "    <tr>\n",
              "      <th>0</th>\n",
              "      <td>4/1/2020</td>\n",
              "      <td>598.799988</td>\n",
              "      <td>4835985</td>\n",
              "      <td>8584.099609</td>\n",
              "      <td>594.000000</td>\n",
              "      <td>606.067697</td>\n",
              "      <td>615.311717</td>\n",
              "    </tr>\n",
              "    <tr>\n",
              "      <th>1</th>\n",
              "      <td>4/3/2020</td>\n",
              "      <td>592.400024</td>\n",
              "      <td>3825217</td>\n",
              "      <td>8356.549805</td>\n",
              "      <td>623.000000</td>\n",
              "      <td>602.222099</td>\n",
              "      <td>615.059885</td>\n",
              "    </tr>\n",
              "    <tr>\n",
              "      <th>2</th>\n",
              "      <td>4/7/2020</td>\n",
              "      <td>663.750000</td>\n",
              "      <td>4083879</td>\n",
              "      <td>8446.299805</td>\n",
              "      <td>653.700012</td>\n",
              "      <td>655.955508</td>\n",
              "      <td>643.758182</td>\n",
              "    </tr>\n",
              "    <tr>\n",
              "      <th>3</th>\n",
              "      <td>4/8/2020</td>\n",
              "      <td>642.349976</td>\n",
              "      <td>4354813</td>\n",
              "      <td>8688.900391</td>\n",
              "      <td>661.000000</td>\n",
              "      <td>646.217601</td>\n",
              "      <td>643.588699</td>\n",
              "    </tr>\n",
              "    <tr>\n",
              "      <th>4</th>\n",
              "      <td>4/9/2020</td>\n",
              "      <td>684.299988</td>\n",
              "      <td>3501448</td>\n",
              "      <td>8973.049805</td>\n",
              "      <td>684.299988</td>\n",
              "      <td>674.085398</td>\n",
              "      <td>685.737297</td>\n",
              "    </tr>\n",
              "    <tr>\n",
              "      <th>5</th>\n",
              "      <td>4/13/2020</td>\n",
              "      <td>689.799988</td>\n",
              "      <td>2844324</td>\n",
              "      <td>9103.950195</td>\n",
              "      <td>706.250000</td>\n",
              "      <td>675.823598</td>\n",
              "      <td>686.029906</td>\n",
              "    </tr>\n",
              "    <tr>\n",
              "      <th>6</th>\n",
              "      <td>4/15/2020</td>\n",
              "      <td>714.700012</td>\n",
              "      <td>6783089</td>\n",
              "      <td>9196.400391</td>\n",
              "      <td>710.000000</td>\n",
              "      <td>721.486502</td>\n",
              "      <td>721.684548</td>\n",
              "    </tr>\n",
              "    <tr>\n",
              "      <th>7</th>\n",
              "      <td>4/16/2020</td>\n",
              "      <td>714.299988</td>\n",
              "      <td>3882012</td>\n",
              "      <td>8851.250000</td>\n",
              "      <td>744.000000</td>\n",
              "      <td>721.401852</td>\n",
              "      <td>721.612206</td>\n",
              "    </tr>\n",
              "    <tr>\n",
              "      <th>8</th>\n",
              "      <td>4/17/2020</td>\n",
              "      <td>746.200012</td>\n",
              "      <td>5154012</td>\n",
              "      <td>9323.450195</td>\n",
              "      <td>749.450012</td>\n",
              "      <td>753.193605</td>\n",
              "      <td>730.189491</td>\n",
              "    </tr>\n",
              "    <tr>\n",
              "      <th>9</th>\n",
              "      <td>4/20/2020</td>\n",
              "      <td>746.099976</td>\n",
              "      <td>2819316</td>\n",
              "      <td>9390.200195</td>\n",
              "      <td>725.049988</td>\n",
              "      <td>753.193605</td>\n",
              "      <td>730.189491</td>\n",
              "    </tr>\n",
              "  </tbody>\n",
              "</table>\n",
              "</div>"
            ],
            "text/plain": [
              "        Date   Adj Close  ...  Predicted Open_rf_imp  Predicted Open_ada_imp\n",
              "0   4/1/2020  598.799988  ...             606.067697              615.311717\n",
              "1   4/3/2020  592.400024  ...             602.222099              615.059885\n",
              "2   4/7/2020  663.750000  ...             655.955508              643.758182\n",
              "3   4/8/2020  642.349976  ...             646.217601              643.588699\n",
              "4   4/9/2020  684.299988  ...             674.085398              685.737297\n",
              "5  4/13/2020  689.799988  ...             675.823598              686.029906\n",
              "6  4/15/2020  714.700012  ...             721.486502              721.684548\n",
              "7  4/16/2020  714.299988  ...             721.401852              721.612206\n",
              "8  4/17/2020  746.200012  ...             753.193605              730.189491\n",
              "9  4/20/2020  746.099976  ...             753.193605              730.189491\n",
              "\n",
              "[10 rows x 7 columns]"
            ]
          },
          "metadata": {
            "tags": []
          },
          "execution_count": 37
        }
      ]
    },
    {
      "cell_type": "code",
      "metadata": {
        "id": "VJVTlOhpwfm5",
        "colab_type": "code",
        "colab": {}
      },
      "source": [
        "# save the optimised model\n",
        "from joblib import dump, load\n",
        "dump(es_pipe_ada, 'escort_prediction.joblib')"
      ],
      "execution_count": 0,
      "outputs": []
    },
    {
      "cell_type": "markdown",
      "metadata": {
        "id": "8KdwAaGQDS3i",
        "colab_type": "text"
      },
      "source": [
        "## NEXT STEPS"
      ]
    },
    {
      "cell_type": "markdown",
      "metadata": {
        "id": "5I08RCbGDS3j",
        "colab_type": "text"
      },
      "source": [
        "### Try different algorithms, optimization methods to reduce the mean squared error to a value in the 100+ range"
      ]
    },
    {
      "cell_type": "markdown",
      "metadata": {
        "id": "w40cglfjDS3k",
        "colab_type": "text"
      },
      "source": [
        "## Add following features\n",
        "### Trading day's open price depends on the following:\n",
        "### Previous day's US closing index (Nasdaq)\n",
        "### Asian's markets open index (Nikkie 225, Shangai Composite, Hang Seng)\n",
        "### Singapore NIFTY 50 index at the time Trading day start"
      ]
    },
    {
      "cell_type": "markdown",
      "metadata": {
        "id": "RSfbuFsxDS3l",
        "colab_type": "text"
      },
      "source": [
        "## Deploy the model on trading platform to pick the opening price"
      ]
    },
    {
      "cell_type": "code",
      "metadata": {
        "id": "ZcYCZqUqDS3m",
        "colab_type": "code",
        "colab": {}
      },
      "source": [
        ""
      ],
      "execution_count": 0,
      "outputs": []
    }
  ]
}