{
  "nbformat": 4,
  "nbformat_minor": 0,
  "metadata": {
    "kernelspec": {
      "display_name": "Python 3",
      "language": "python",
      "name": "python3"
    },
    "language_info": {
      "codemirror_mode": {
        "name": "ipython",
        "version": 3
      },
      "file_extension": ".py",
      "mimetype": "text/x-python",
      "name": "python",
      "nbconvert_exporter": "python",
      "pygments_lexer": "ipython3",
      "version": "3.7.6"
    },
    "colab": {
      "name": "color_similarity.ipynb",
      "provenance": [],
      "collapsed_sections": []
    }
  },
  "cells": [
    {
      "cell_type": "markdown",
      "metadata": {
        "id": "MvOBeU2lcGNV",
        "colab_type": "text"
      },
      "source": [
        "Find color similarity between two images using kmeans clustering algorithms"
      ]
    },
    {
      "cell_type": "code",
      "metadata": {
        "id": "sVA-rfv_cGNa",
        "colab_type": "code",
        "colab": {}
      },
      "source": [
        "import cv2\n",
        "from sklearn.cluster import KMeans\n",
        "import matplotlib.pyplot as plt\n",
        "import numpy as np"
      ],
      "execution_count": 0,
      "outputs": []
    },
    {
      "cell_type": "code",
      "metadata": {
        "id": "CvS9ueIocyyv",
        "colab_type": "code",
        "outputId": "97a598c0-f9a6-41cb-f897-724600284408",
        "colab": {
          "base_uri": "https://localhost:8080/",
          "height": 54
        }
      },
      "source": [
        "from google.colab import drive\n",
        "drive.mount('/content/drive')"
      ],
      "execution_count": 0,
      "outputs": [
        {
          "output_type": "stream",
          "text": [
            "Drive already mounted at /content/drive; to attempt to forcibly remount, call drive.mount(\"/content/drive\", force_remount=True).\n"
          ],
          "name": "stdout"
        }
      ]
    },
    {
      "cell_type": "code",
      "metadata": {
        "id": "ysqLl6k-dGfG",
        "colab_type": "code",
        "colab": {}
      },
      "source": [
        "file1 = '/content/drive/My Drive/Data Science Classroom/dataset/IM_SAMPLE1.png'\n",
        "file2 = '/content/drive/My Drive/Data Science Classroom/dataset/IM_SAMPLE2.png'"
      ],
      "execution_count": 0,
      "outputs": []
    },
    {
      "cell_type": "code",
      "metadata": {
        "id": "R8m7lLvTcGN_",
        "colab_type": "code",
        "colab": {}
      },
      "source": [
        "def get_dominant_color(file):\n",
        "    # reading the image\n",
        "    img = cv2.imread(file)\n",
        "    #convert image from BGR to RGB\n",
        "    img = cv2.cvtColor(img, cv2.COLOR_BGR2RGB)\n",
        "    img = cv2.resize(img, (128,128))\n",
        "    #reshaping pixels\n",
        "    img = img.reshape((img.shape[0] * img.shape[1], 3))\n",
        "    #using k-means to cluster pixels\n",
        "    kmeans = KMeans(n_clusters = 3)\n",
        "    kmeans.fit(img)\n",
        "    #the cluster centers are our dominant colors.\n",
        "    colors = kmeans.cluster_centers_\n",
        "    return colors"
      ],
      "execution_count": 0,
      "outputs": []
    },
    {
      "cell_type": "code",
      "metadata": {
        "id": "zm8x48MwcGOF",
        "colab_type": "code",
        "colab": {}
      },
      "source": [
        "out1 = get_dominant_color(file1)\n",
        "out2 = get_dominant_color(file2)"
      ],
      "execution_count": 0,
      "outputs": []
    },
    {
      "cell_type": "code",
      "metadata": {
        "id": "i8I5hZEScGOM",
        "colab_type": "code",
        "outputId": "c774a454-9d26-49fa-d57f-44ee8cfb65b3",
        "colab": {
          "base_uri": "https://localhost:8080/",
          "height": 68
        }
      },
      "source": [
        "out1-out2"
      ],
      "execution_count": 0,
      "outputs": [
        {
          "output_type": "execute_result",
          "data": {
            "text/plain": [
              "array([[-3.33333333e-02, -1.88825758e-01, -6.15530303e-03],\n",
              "       [-1.78445686e+01, -9.83671032e+01, -2.97496148e+00],\n",
              "       [ 0.00000000e+00, -2.56329114e-01, -3.67088608e-01]])"
            ]
          },
          "metadata": {
            "tags": []
          },
          "execution_count": 8
        }
      ]
    },
    {
      "cell_type": "code",
      "metadata": {
        "id": "a35xQ-zucGOU",
        "colab_type": "code",
        "outputId": "4e9482e1-f5f1-4b2e-9356-6bfe8d702346",
        "colab": {
          "base_uri": "https://localhost:8080/",
          "height": 68
        }
      },
      "source": [
        "diff = out1 - out2\n",
        "diff = diff.flatten()\n",
        "l = len(diff)\n",
        "print(l)\n",
        "score = 0\n",
        "for d in diff:\n",
        "    if abs(d)<5:\n",
        "        score +=1\n",
        "print(score)\n",
        "score = score/l\n",
        "print('Similarity score --> {}'.format(round(score,2)))"
      ],
      "execution_count": 0,
      "outputs": [
        {
          "output_type": "stream",
          "text": [
            "9\n",
            "7\n",
            "Similarity score --> 0.78\n"
          ],
          "name": "stdout"
        }
      ]
    },
    {
      "cell_type": "code",
      "metadata": {
        "id": "LMdd4GR8cGOc",
        "colab_type": "code",
        "colab": {}
      },
      "source": [
        "def get_color_similarity_score(file1,file2):\n",
        "    out1 = get_dominant_color(file1)\n",
        "    out2 = get_dominant_color(file2)\n",
        "    diff = 0\n",
        "    diff = out1-out2\n",
        "    arr = diff.flatten()\n",
        "    l = len(arr)\n",
        "    score = 0\n",
        "    for d in arr:\n",
        "        if abs(d)<5:\n",
        "            score +=1\n",
        "    print(score)\n",
        "    score = score/l\n",
        "    return round(score,2)"
      ],
      "execution_count": 0,
      "outputs": []
    },
    {
      "cell_type": "code",
      "metadata": {
        "id": "Lvk7vkN7cGOi",
        "colab_type": "code",
        "outputId": "76f6a733-669d-4b59-928c-a7d35dbb6445",
        "colab": {
          "base_uri": "https://localhost:8080/",
          "height": 51
        }
      },
      "source": [
        "get_color_similarity_score(file1,file2)"
      ],
      "execution_count": 0,
      "outputs": [
        {
          "output_type": "stream",
          "text": [
            "7\n"
          ],
          "name": "stdout"
        },
        {
          "output_type": "execute_result",
          "data": {
            "text/plain": [
              "0.78"
            ]
          },
          "metadata": {
            "tags": []
          },
          "execution_count": 12
        }
      ]
    },
    {
      "cell_type": "code",
      "metadata": {
        "id": "AAMelRB-cGOv",
        "colab_type": "code",
        "colab": {}
      },
      "source": [
        ""
      ],
      "execution_count": 0,
      "outputs": []
    }
  ]
}